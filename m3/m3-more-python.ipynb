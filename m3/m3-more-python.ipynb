{
 "cells": [
  {
   "cell_type": "code",
   "execution_count": 23,
   "metadata": {},
   "outputs": [
    {
     "data": {
      "text/html": [
       "<link rel=\"stylesheet\" type=\"text/css\" href=\"https://raw.githubusercontent.com/malkaguillot/Foundations-in-Data-Science-and-Machine-Learning/refs/heads/main/docs/utils/custom.css?token=GHSAT0AAAAAADAAG3OQTHAROXYAJ7DTSTUIZ7SKGBQ\">\n"
      ],
      "text/plain": [
       "<IPython.core.display.HTML object>"
      ]
     },
     "metadata": {},
     "output_type": "display_data"
    }
   ],
   "source": [
    "%%HTML\n",
    "<link rel=\"stylesheet\" type=\"text/css\" href=\"https://raw.githubusercontent.com/malkaguillot/Foundations-in-Data-Science-and-Machine-Learning/refs/heads/main/docs/utils/custom.css?token=GHSAT0AAAAAADAAG3OQTHAROXYAJ7DTSTUIZ7SKGBQ\">"
   ]
  },
  {
   "cell_type": "markdown",
   "metadata": {
    "slideshow": {
     "slide_type": "slide"
    }
   },
   "source": [
    "## Foundations in Data Science and Machine Learning\n",
    "# Module 3: More Python\n",
    "### Malka Guillot\n",
    "\n",
    "<img src=\"../utils/img/logo-hsg.png\" alt=\"HSG Logo\" style=\"position: relative; bottom: 50px; left: 600px; width: 100px;\">\n"
   ]
  },
  {
   "cell_type": "markdown",
   "metadata": {
    "slideshow": {
     "slide_type": "slide"
    }
   },
   "source": [
    "## `for` loops"
   ]
  },
  {
   "cell_type": "markdown",
   "metadata": {},
   "source": [
    "### Don’t repeat yourself"
   ]
  },
  {
   "cell_type": "code",
   "execution_count": 2,
   "metadata": {},
   "outputs": [
    {
     "data": {
      "text/plain": [
       "['guy', 'ray', 'tim']"
      ]
     },
     "execution_count": 2,
     "metadata": {},
     "output_type": "execute_result"
    }
   ],
   "source": [
    "names = [\"Guy\", \"Ray\", \"Tim\"]\n",
    "lower_names = [\n",
    " names[0].lower(),\n",
    " names[1].lower(),\n",
    " names[2].lower(),\n",
    "]\n",
    "lower_names"
   ]
  },
  {
   "cell_type": "markdown",
   "metadata": {},
   "source": [
    "- This code repetition is problematic \n",
    "  - If we have a typo, we need to fix it multiple times\n",
    "  - Cumbersome if list becomes longer\n",
    "\n",
    "- In many situations we want to do similar things multiple times \n",
    "  - Cleaning several similar variables\n",
    "  - Fitting several models"
   ]
  },
  {
   "cell_type": "markdown",
   "metadata": {
    "slideshow": {
     "slide_type": "subslide"
    }
   },
   "source": [
    "### A simple for loop\n",
    "- for loops let us do things repeatedly \n",
    "- First line ends with a `:`\n",
    "- In each iteration, the running variable is bound to a new value\n",
    "- Loop body with one or several lines is **indented** by 4 spaces"
   ]
  },
  {
   "cell_type": "code",
   "execution_count": 3,
   "metadata": {},
   "outputs": [
    {
     "name": "stdout",
     "output_type": "stream",
     "text": [
      "0\n",
      "1\n",
      "4\n",
      "9\n",
      "16\n"
     ]
    }
   ],
   "source": [
    "for i in range(5):\n",
    "    print(i ** 2)"
   ]
  },
  {
   "cell_type": "markdown",
   "metadata": {
    "slideshow": {
     "slide_type": "subslide"
    }
   },
   "source": [
    "### Looping over lists and tuples\n",
    "\n",
    "- Looping over lists and tuples works in the same way\n",
    "- Running variable is iteratively bound to the iterable’s elements\n",
    "- Try to choose a good name for the running variable!"
   ]
  },
  {
   "cell_type": "code",
   "execution_count": 4,
   "metadata": {},
   "outputs": [
    {
     "name": "stdout",
     "output_type": "stream",
     "text": [
      "guy\n",
      "ray\n",
      "tim\n"
     ]
    }
   ],
   "source": [
    "names = [\"Guy\", \"Ray\", \"Tim\"]\n",
    "for name in names:\n",
    "    print(name.lower())"
   ]
  },
  {
   "cell_type": "markdown",
   "metadata": {},
   "source": [
    "<!-- ### Looping over dictionaries\n",
    "- By default you loop over dictionary keys -->"
   ]
  },
  {
   "cell_type": "markdown",
   "metadata": {
    "slideshow": {
     "slide_type": "subslide"
    }
   },
   "source": [
    "### Looping over dictionaries \n",
    "- By default you loop over dictionary keys"
   ]
  },
  {
   "cell_type": "code",
   "execution_count": 5,
   "metadata": {},
   "outputs": [
    {
     "name": "stdout",
     "output_type": "stream",
     "text": [
      "a\n",
      "b\n",
      "c\n"
     ]
    }
   ],
   "source": [
    "let_to_pos = {\n",
    "    \"a\": 0,\n",
    "    \"b\": 1,\n",
    "    \"c\": 2,\n",
    "}\n",
    "for let in let_to_pos:\n",
    "    print(let)"
   ]
  },
  {
   "cell_type": "markdown",
   "metadata": {
    "slideshow": {
     "slide_type": "subslide"
    }
   },
   "source": [
    "- Use `.items()` for looping over key/value pairs"
   ]
  },
  {
   "cell_type": "code",
   "execution_count": 6,
   "metadata": {},
   "outputs": [
    {
     "name": "stdout",
     "output_type": "stream",
     "text": [
      "a 0\n",
      "b 1\n",
      "c 2\n"
     ]
    }
   ],
   "source": [
    "for let, pos in let_to_pos.items():\n",
    "    print(let, pos)"
   ]
  },
  {
   "cell_type": "markdown",
   "metadata": {
    "slideshow": {
     "slide_type": "slide"
    }
   },
   "source": [
    "## `if` statements"
   ]
  },
  {
   "cell_type": "markdown",
   "metadata": {},
   "source": []
  },
  {
   "cell_type": "markdown",
   "metadata": {
    "slideshow": {
     "slide_type": "subslide"
    }
   },
   "source": [
    "### Motivation\n",
    "- So far, all of our instructions in Python were very explicit\n",
    "- There was no way of reacting to different situations:\n",
    "  - Collecting elements of a list that fulfil a condition\n",
    "  - Doing different things for different types of variables\n",
    "  - …\n",
    "- This is what if conditions are for"
   ]
  },
  {
   "cell_type": "markdown",
   "metadata": {},
   "source": [
    "### Example: clipping a number"
   ]
  },
  {
   "cell_type": "markdown",
   "metadata": {},
   "source": [
    "- `if` ,` elif` , and `else` are special keywords\n",
    "- End each condition with a :\n",
    "- What happens if that condition is True needs to be indented by 4 spaces and can span one or multiple lines\n",
    "- Code following False conditions is skipped\n",
    "- `elif x`: is the same as\n",
    "- `else`: + nested `if x:`"
   ]
  },
  {
   "cell_type": "code",
   "execution_count": 7,
   "metadata": {},
   "outputs": [
    {
     "data": {
      "text/plain": [
       "-3.0"
      ]
     },
     "execution_count": 7,
     "metadata": {},
     "output_type": "execute_result"
    }
   ],
   "source": [
    "number = -3.1\n",
    "\n",
    "if number < -3:\n",
    "    clipped = -3.0\n",
    "elif number > 3:\n",
    "    clipped = 3.0\n",
    "else:\n",
    "    clipped = number\n",
    "\n",
    "clipped"
   ]
  },
  {
   "cell_type": "markdown",
   "metadata": {
    "slideshow": {
     "slide_type": "subslide"
    }
   },
   "source": [
    "### More on Booleans\n",
    "- That is not a Boolean can be converted to a Boolean\n",
    "- This conversion happens implicitly after `if` and `elif`\n",
    "- Can be useful and elegant but might compromise readability\n",
    "- Rules of thumb:\n",
    "  - 0 is `False` -ish"
   ]
  },
  {
   "cell_type": "code",
   "execution_count": 8,
   "metadata": {},
   "outputs": [
    {
     "data": {
      "text/plain": [
       "False"
      ]
     },
     "execution_count": 8,
     "metadata": {},
     "output_type": "execute_result"
    }
   ],
   "source": [
    "bool(0)"
   ]
  },
  {
   "cell_type": "markdown",
   "metadata": {},
   "source": [
    "  - Other numbers are `True` -ish"
   ]
  },
  {
   "cell_type": "code",
   "execution_count": 9,
   "metadata": {},
   "outputs": [
    {
     "data": {
      "text/plain": [
       "True"
      ]
     },
     "execution_count": 9,
     "metadata": {},
     "output_type": "execute_result"
    }
   ],
   "source": [
    "bool(1)"
   ]
  },
  {
   "cell_type": "markdown",
   "metadata": {},
   "source": [
    "  - Len-0 collections are `False` -ish"
   ]
  },
  {
   "cell_type": "code",
   "execution_count": 10,
   "metadata": {},
   "outputs": [
    {
     "data": {
      "text/plain": [
       "False"
      ]
     },
     "execution_count": 10,
     "metadata": {},
     "output_type": "execute_result"
    }
   ],
   "source": [
    "bool([])"
   ]
  },
  {
   "cell_type": "markdown",
   "metadata": {},
   "source": [
    "  - Len>0 collections are `True` -ish"
   ]
  },
  {
   "cell_type": "code",
   "execution_count": 11,
   "metadata": {},
   "outputs": [
    {
     "data": {
      "text/plain": [
       "True"
      ]
     },
     "execution_count": 11,
     "metadata": {},
     "output_type": "execute_result"
    }
   ],
   "source": [
    "bool([1, 3])"
   ]
  },
  {
   "cell_type": "markdown",
   "metadata": {
    "slideshow": {
     "slide_type": "subslide"
    }
   },
   "source": [
    "### More complex conditions\n",
    "- Remember operators from \"Assignments and Scalar Types\":\n",
    "  - `and`\n",
    "  - `or` (inclusive)\n",
    "  - `not`\n",
    "- Example:"
   ]
  },
  {
   "cell_type": "code",
   "execution_count": 12,
   "metadata": {},
   "outputs": [
    {
     "name": "stdout",
     "output_type": "stream",
     "text": [
      "do_something()\n"
     ]
    }
   ],
   "source": [
    "a = 3 \n",
    "b = 2\n",
    "some_cutoff = 1\n",
    "if a > b and b > some_cutoff:\n",
    "    print(\"do_something()\")\n",
    "else:\n",
    "    print(\"do_something_else()\")"
   ]
  },
  {
   "cell_type": "markdown",
   "metadata": {
    "slideshow": {
     "slide_type": "subslide"
    }
   },
   "source": [
    "### Filtering loops\n",
    "- Can filter lists based on properties of items\n",
    "- Can filter dictionaries based on properties of keys and/or values \n",
    "- Example usecases:\n",
    "  - Find elements above a cutoff\n",
    "  - Extract female names\n",
    "  - Exclude invalid data"
   ]
  },
  {
   "cell_type": "code",
   "execution_count": 13,
   "metadata": {},
   "outputs": [
    {
     "data": {
      "text/plain": [
       "['Tim']"
      ]
     },
     "execution_count": 13,
     "metadata": {},
     "output_type": "execute_result"
    }
   ],
   "source": [
    "names = [\"Guy\", \"Ray\", \"Tim\"]\n",
    "names_with_i = []\n",
    "for n in names:\n",
    "    if \"i\" in n:\n",
    "        names_with_i.append(n)\n",
    "names_with_i"
   ]
  },
  {
   "cell_type": "markdown",
   "metadata": {
    "slideshow": {
     "slide_type": "slide"
    }
   },
   "source": [
    "## Defining Functions"
   ]
  },
  {
   "cell_type": "markdown",
   "metadata": {},
   "source": [
    "### Anatomy of Python functions\n",
    "- Start with the `def` keyword\n",
    "- Name is `lowercase_with_underscores`\n",
    "- There can be one or several parameters (a.k.a. arguments)\n",
    "- You can assign default values for arguments\n",
    "- Function body is indented by 4 spaces and can have one or several lines\n",
    "- Inside the body you can do everything you have seen so far!"
   ]
  },
  {
   "cell_type": "markdown",
   "metadata": {},
   "source": [
    "![function](https://geo-python-site.readthedocs.io/en/2017.1/_images/Function_anatomy.png))"
   ]
  },
  {
   "cell_type": "markdown",
   "metadata": {},
   "source": [
    "### Example\n",
    "- Function calls work with positional and keyword arguments \n",
    "- Pass keyword arguments for any function with more than one argument!"
   ]
  },
  {
   "cell_type": "code",
   "execution_count": 14,
   "metadata": {},
   "outputs": [],
   "source": [
    "def utility_crra(c, y=1.5):\n",
    "    return c ** (1 - y) / (1 - y)"
   ]
  },
  {
   "cell_type": "code",
   "execution_count": 15,
   "metadata": {},
   "outputs": [
    {
     "data": {
      "text/plain": [
       "-2.0"
      ]
     },
     "execution_count": 15,
     "metadata": {},
     "output_type": "execute_result"
    }
   ],
   "source": [
    "utility_crra(1.0)"
   ]
  },
  {
   "cell_type": "code",
   "execution_count": 16,
   "metadata": {},
   "outputs": [
    {
     "data": {
      "text/plain": [
       "1.0"
      ]
     },
     "execution_count": 16,
     "metadata": {},
     "output_type": "execute_result"
    }
   ],
   "source": [
    "utility_crra(1.0,  y=0)"
   ]
  },
  {
   "cell_type": "markdown",
   "metadata": {
    "slideshow": {
     "slide_type": "slide"
    }
   },
   "source": [
    "## Principles for Good Functions"
   ]
  },
  {
   "cell_type": "markdown",
   "metadata": {},
   "source": [
    "### Why functions are important\n",
    "- Help to re-use code and avoid duplication\n",
    "- Help to structure code and reduce cognitive load\n",
    "- Make individual code snippets testable\n",
    "- Help to make your projects more reproducible\n",
    "- Unlock the power of functional programming concepts\n",
    "- Are also the basis for good object oriented code"
   ]
  },
  {
   "cell_type": "markdown",
   "metadata": {
    "slideshow": {
     "slide_type": "subslide"
    }
   },
   "source": [
    "### Pass all variables you want to use inside\n",
    "- Inside a function you have access to variables in the enclosing scope\n",
    "- This is dangerous because the behaviour of the function now depends on global variables\n",
    "- Do not use this in your code!"
   ]
  },
  {
   "cell_type": "code",
   "execution_count": 17,
   "metadata": {},
   "outputs": [
    {
     "name": "stdout",
     "output_type": "stream",
     "text": [
      "Hello Guido!\n"
     ]
    }
   ],
   "source": [
    "# bad example\n",
    "global_msg = \"Hello {}!\"\n",
    "def greet_with_global(name):\n",
    "    print(global_msg.format(name))\n",
    "greet_with_global(\"Guido\")"
   ]
  },
  {
   "cell_type": "code",
   "execution_count": 18,
   "metadata": {
    "slideshow": {
     "slide_type": "subslide"
    }
   },
   "outputs": [
    {
     "name": "stdout",
     "output_type": "stream",
     "text": [
      "Hello Guido!\n"
     ]
    }
   ],
   "source": [
    "# solution 1: define inside function\n",
    "def greet(name):\n",
    "    msg = \"Hello {}!\"\n",
    "    print(msg.format(name))\n",
    "greet(\"Guido\")\n"
   ]
  },
  {
   "cell_type": "code",
   "execution_count": 19,
   "metadata": {},
   "outputs": [
    {
     "name": "stdout",
     "output_type": "stream",
     "text": [
      "Hello Guido!\n"
     ]
    }
   ],
   "source": [
    "# solution 2: pass as argument\n",
    "def greet_explicit(name, msg):\n",
    "    print(msg.format(name))\n",
    "greet_explicit(\"Guido\", \"Hello {}!\")"
   ]
  },
  {
   "cell_type": "markdown",
   "metadata": {
    "slideshow": {
     "slide_type": "subslide"
    }
   },
   "source": [
    "### Do not modify mutable arguments\n",
    "- Arguments are passed by reference, i.e. without making a copy\n",
    "- Make sure that functions do not modify mutable arguments!\n",
    "  - Make copies\n",
    "  - Avoid changing objects in the first place"
   ]
  },
  {
   "cell_type": "code",
   "execution_count": 20,
   "metadata": {},
   "outputs": [
    {
     "data": {
      "text/plain": [
       "[1, 2, 3, 4]"
      ]
     },
     "execution_count": 20,
     "metadata": {},
     "output_type": "execute_result"
    }
   ],
   "source": [
    "def append_4(some_list):\n",
    "    some_list.append(4)\n",
    "    return some_list\n",
    "my_list = [1, 2, 3]\n",
    "append_4(my_list)   \n",
    "my_list"
   ]
  },
  {
   "cell_type": "code",
   "execution_count": 21,
   "metadata": {},
   "outputs": [],
   "source": [
    "# better solution\n",
    "def append_4(some_list):\n",
    "    out = some_list.copy()\n",
    "    out.append(4)\n",
    "    return out"
   ]
  },
  {
   "cell_type": "markdown",
   "metadata": {},
   "source": [
    "## Executing notebooks in vscode"
   ]
  },
  {
   "cell_type": "markdown",
   "metadata": {},
   "source": []
  }
 ],
 "metadata": {
  "kernelspec": {
   "display_name": "DataManagement2024b",
   "language": "python",
   "name": "python3"
  },
  "language_info": {
   "codemirror_mode": {
    "name": "ipython",
    "version": 3
   },
   "file_extension": ".py",
   "mimetype": "text/x-python",
   "name": "python",
   "nbconvert_exporter": "python",
   "pygments_lexer": "ipython3",
   "version": "3.12.6"
  },
  "toc": {
   "base_numbering": 1,
   "nav_menu": {},
   "number_sections": false,
   "sideBar": true,
   "skip_h1_title": false,
   "title_cell": "Table of Contents",
   "title_sidebar": "Contents",
   "toc_cell": false,
   "toc_position": {},
   "toc_section_display": true,
   "toc_window_display": false
  }
 },
 "nbformat": 4,
 "nbformat_minor": 2
}
