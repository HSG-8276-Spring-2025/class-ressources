{
 "cells": [
  {
   "cell_type": "code",
   "execution_count": null,
   "metadata": {
    "vscode": {
     "languageId": "html"
    }
   },
   "outputs": [
    {
     "data": {
      "text/html": [
       "<link rel=\"stylesheet\" type=\"text/css\" href=\"https://raw.githubusercontent.com/malkaguillot/Foundations-in-Data-Science-and-Machine-Learning/refs/heads/main/docs/utils/custom.css\">\n",
       "%%HTML\n",
       "<link rel=\"stylesheet\" type=\"text/css\" href=\"../utils/custom.css\">\n"
      ],
      "text/plain": [
       "<IPython.core.display.HTML object>"
      ]
     },
     "metadata": {},
     "output_type": "display_data"
    }
   ],
   "source": [
    "%%HTML\n",
    "<link rel=\"stylesheet\" type=\"text/css\" href=\"https://raw.githubusercontent.com/malkaguillot/Foundations-in-Data-Science-and-Machine-Learning/refs/heads/main/docs/utils/custom.css\">\n",
    "<link rel=\"stylesheet\" type=\"text/css\" href=\"../utils/custom.css\">"
   ]
  },
  {
   "cell_type": "markdown",
   "metadata": {
    "slideshow": {
     "slide_type": "slide"
    },
    "tags": [
     "start"
    ]
   },
   "source": [
    "## Foundations in Data Science and Machine Learning\n",
    "# Module 1: Introduction\n",
    "### Malka Guillot\n",
    "\n",
    "<img src=\"../utils/img/logo-hsg.png\" alt=\"HSG Logo\" style=\"position: relative; bottom: 50px; left: 600px; width: 100px;\">\n"
   ]
  },
  {
   "cell_type": "markdown",
   "metadata": {
    "slideshow": {
     "slide_type": "slide"
    }
   },
   "source": [
    "## Overview of the class"
   ]
  },
  {
   "cell_type": "markdown",
   "metadata": {
    "slideshow": {
     "slide_type": "subslide"
    }
   },
   "source": [
    "### Introduction: Who am I?\n",
    "\n",
    "<div style=\"display: flex; justify-content: space-between;\">\n",
    "  <div style=\"flex: 1; padding-right: 20px;\">\n",
    "    <!-- Your text content here -->\n",
    "    <ul> \n",
    "    <li>PhD in economics from the Paris School of Economics</li> \n",
    "    <li>Postdoc at ETH Zürich</li> \n",
    "    <li>Associate professor at the University of Liège, Belgium</li> \n",
    "      <li> Interested in public economics questions: <a href=\"https://cepr.org/active/publications/discussion_papers/dp.php?dpno=15415\">inequality</a> and\n",
    "    <a href=\"https://payroll-tax-app.herokuapp.com/\">taxation</li>\n",
    "    <li>Using the standard econometric toolbox + natural language processing + machine learning</li> \n",
    "    </ul>\n",
    " \n",
    "  </div>\n",
    "  <div style=\"flex: 1;\">\n",
    "    <img src=\"../utils/img/malka_small.jpg\" alt=\"Description\" style=\"height: 160px;\">\n",
    "  </div>\n",
    "</div>\n",
    "\n"
   ]
  },
  {
   "cell_type": "markdown",
   "metadata": {
    "slideshow": {
     "slide_type": "subslide"
    }
   },
   "source": [
    "### Who are you?\n",
    "- Where have you done your bachelor ? \n",
    "\n",
    "- Major ? \n",
    "- Programming experience? \n",
    "- A specific interest in: a method / a theme? "
   ]
  },
  {
   "cell_type": "markdown",
   "metadata": {
    "slideshow": {
     "slide_type": "subslide"
    }
   },
   "source": [
    "### Class objective\n",
    "\n",
    "The class focuses concepts & skills related to the management of data, that are central for the **exploitation** of data.\n",
    "\n",
    "**Goals**:\n",
    "- Equip you with the standard datascience toolkit.\n",
    "- Put it to work on a real-world project."
   ]
  },
  {
   "cell_type": "markdown",
   "metadata": {
    "slideshow": {
     "slide_type": "subslide"
    }
   },
   "source": [
    "### Backbone of the class\n",
    "\n",
    "1. The <bcolor>skills</bcolor>:\n",
    "   - Data manipulation:\n",
    "     - Cleaning, Pipelines, data structure\n",
    "   - Data vizualisation\n",
    "   - Data modelling\n",
    "2. The <bcolor>tools</bcolor>:\n",
    "   - shel\n",
    "   - python\n",
    "   - git\n",
    "3. The <bcolor>concepts</bcolor>:\n",
    "   - *Project management*: documenting, sharing & managing code\n",
    "   - *Reproducibility*\n",
    "4. The <bcolor>methods</bcolor>:\n",
    "   - Machine Learning\n",
    "   - Natural Language Processing\n",
    "*Public targeted*: <bcolor>anyone using data for projects</bcolor>."
   ]
  },
  {
   "cell_type": "markdown",
   "metadata": {
    "slideshow": {
     "slide_type": "subslide"
    }
   },
   "source": [
    "### What this course **is**, and *is not*\n",
    "- **It is**:\n",
    "  - <bcolor>Applied</bcolor> and oriented towards practice;\n",
    "  - <bcolor>General</bcolor> overview of different techniques - what they are and how to use them.\n",
    "  - <bcolor>Data analysis</bcolor> in general, not restricted to a research or a field (economics, political science).\n",
    "  - In [python]().\n",
    "- *It is not*:\n",
    "  - <bcolor>Computer science</bcolor>. We’re not coding up models from scratch.\n",
    "  - <bcolor>Mathematical statistics</bcolor>. We’re not deriving the functions by hand.\n",
    "\n"
   ]
  },
  {
   "cell_type": "markdown",
   "metadata": {
    "slideshow": {
     "slide_type": "subslide"
    }
   },
   "source": [
    "### Example project\n",
    "\n",
    "[How did the under-developed and agricultural Switzerland from the 1850s become such  an economically successful country? ](https://data.snf.ch/grants/grant/209465)\n",
    "\n",
    "<div style=\"display: flex; justify-content: space-between;\">\n",
    "  <div style=\"flex: 1; padding-right: 20px;\">\n",
    "    <!-- Your text content here -->\n",
    "   <p class=\"fragment\" data-fragment-index=\"2\">\n",
    "    A research question in history... where data are central </p> \n",
    "      <p> \n",
    "       <ul class=\"fragment\" data-fragment-index=\"3\">\n",
    "     <li>Timing of the development of certain economic sectors?</li>\n",
    "    <li>Geographical distribution of the firms?</li>\n",
    "    <li>Interaction with public policies ?</li>\n",
    "    </ul> \n",
    "  </p> \n",
    "  </div>\n",
    "  <div style=\"flex: 1;\">\n",
    "    <p class=\"fragment\" style=\"position: relative; right: 0px; top: 10;\" data-fragment-index=\"2\" >\n",
    "        <img src=\"img/Histoire-economique-Suisse.jpg\" height=\"230px\" /></a>\n",
    "        <a href=\"image2.jpg\"><img src=\"\" height=\"100px\"/></a>\n",
    "    </p>\n",
    "  </div>\n",
    "</div>\n"
   ]
  },
  {
   "cell_type": "markdown",
   "metadata": {},
   "source": [
    "### Example: REFLEX project\n",
    "- *Approach*: The Swiss Commercial Registry (1883-)\n",
    "  <div class=\"r-stack\"><img src=\"img/handelsamtsblatt1883.png\"  style=\"width: 200px;\" ></div>\n",
    "\n",
    "- *Methods*: \n",
    "  - Transforming the pdf into structured data using:\n",
    "    - google vision\n",
    "    - Open AI\n",
    "    - deep learning"
   ]
  },
  {
   "cell_type": "markdown",
   "metadata": {
    "slideshow": {
     "slide_type": "subslide"
    }
   },
   "source": [
    "### Example: REFLEX project\n",
    "- *Objectives*: \n",
    "  <div class=\"r-stack\"><img src=\"img/entity-extraction.png\"  style=\"width: 800px;\" ></div>\n",
    "- *Challenges*:\n",
    "  - Correcting for OCR mistakes\n",
    "  - Building a firm identifyer\n",
    "  - 3 languages\n",
    "  - ..."
   ]
  },
  {
   "cell_type": "markdown",
   "metadata": {
    "slideshow": {
     "slide_type": "subslide"
    }
   },
   "source": [
    "## Course organisation & logistics"
   ]
  },
  {
   "cell_type": "markdown",
   "metadata": {
    "slideshow": {
     "slide_type": "subslide"
    }
   },
   "source": [
    "### How does the class work? Spirit\n",
    "\n",
    "Sessions are designed to be [interactive]()\n",
    "\n",
    "- mix of live *concepts* & *coding exercises*\n",
    "- I want to get you comfortable usings your computing environment to solve problems\n",
    "  - bring your laptop!\n",
    "  - I expect you have completed the installation guide and have all software installed.\n",
    "  - ask questions!\n"
   ]
  },
  {
   "cell_type": "markdown",
   "metadata": {
    "slideshow": {
     "slide_type": "subslide"
    }
   },
   "source": [
    "### Online Course Materials\n",
    "- [Website](https://malkaguillot.github.io/Foundations-in-Data-Science-and-Machine-Learning/ ): \n",
    "  - with the course schedule + architecture + content\n",
    "- [Github repository](https://github.com/HSG-8276-Spring-2025/class-ressources) : \n",
    "  - includes course resources (notebooks)\n",
    "- [Github classroom](https://classroom.github.com/classrooms/203987321-hsg-8276-spring-2025-classroom):\n",
    "  - for collective in-class exercises\n",
    "\n",
    "- [StudyNet](https://learning.unisg.ch/courses/22732/pages/home-page):\n",
    "  - For homeworks\n",
    "  - Course announcement and forum\n"
   ]
  },
  {
   "cell_type": "markdown",
   "metadata": {
    "slideshow": {
     "slide_type": "slide"
    }
   },
   "source": [
    "## Shell"
   ]
  },
  {
   "cell_type": "markdown",
   "metadata": {
    "slideshow": {
     "slide_type": "subslide"
    }
   },
   "source": [
    "###  Command line interfaces (CLIs) vs. Graphic User Interfaces (GUIs)\n",
    "### CLI\n",
    "- Faster if you know commands\n",
    "- More precise\n",
    "- Do everything in one place and don’t change windows\n",
    "- Multiple steps can be chained and automated to become one\n",
    "### GUI\n",
    "- Faster for beginners\n",
    "- Less need to memorize\n",
    "- Use an interface that is designed specifically for your task\n",
    "- No potential for automation or command chaining"
   ]
  },
  {
   "cell_type": "markdown",
   "metadata": {
    "slideshow": {
     "slide_type": "subslide"
    }
   },
   "source": [
    "### Navigation in the shell\n",
    "\n",
    "- Present working directory (`pwd`) \n",
    "    - Display your working directory\n",
    "- Use `cd` to navigate to different directories\n",
    "  - ``cd ..`` to go up one directory\n",
    "- Use `ls` to list directories\n",
    "- `mkdir` to create a new directory\n",
    "- `touch` to create a new file\n",
    "- `rm` to remove a file\n",
    "- `rmdir` to remove a directory\n",
    "- `cp` to copy a file"
   ]
  },
  {
   "cell_type": "markdown",
   "metadata": {
    "slideshow": {
     "slide_type": "subslide"
    }
   },
   "source": [
    "### Windows Users\n",
    "\n",
    "- There are 2 shells:\n",
    "  - Powershell\n",
    "  - Windows Command Prompt\n",
    "- You can use either one, but Powershell is more powerful and has more features (and has the same commands as the Mac/Linux shell)"
   ]
  },
  {
   "cell_type": "markdown",
   "metadata": {
    "slideshow": {
     "slide_type": "slide"
    }
   },
   "source": [
    "##  Git"
   ]
  },
  {
   "cell_type": "markdown",
   "metadata": {
    "slideshow": {
     "slide_type": "subslide"
    }
   },
   "source": [
    "### What is git? \n",
    "*Definition*: A version control system \n",
    "\n",
    "Enables <bcolor>coordinatation</bcolor> $\\rightarrow$ no code change is lost or accidentally overwriten.\n",
    "\n",
    "Provides an organized <bcolor>sharing</bcolor> platform $\\rightarrow$ *open source* & documentation\n",
    "\n",
    "$\\Rightarrow$ key tool from our <bcolor>project management</bcolor> perspective\n",
    "\n",
    "$\\Rightarrow$ widely used in a companies / not enough in research:\n",
    "\n",
    "- Software development\n",
    "- Scientific researcher\n",
    "- Anything involving coding (even latex)"
   ]
  },
  {
   "cell_type": "markdown",
   "metadata": {
    "slideshow": {
     "slide_type": "subslide"
    }
   },
   "source": [
    "### What is GitHub?\n",
    "\n",
    "*Definition*: A web-based platform for version control and collaboration (using git)\n",
    "- Practical: Something that lets you:\n",
    "  - host your code online\n",
    "  - share your code with others\n",
    "  - collaborate with others on the same project\n",
    "  - keep track of changes made by different people\n",
    "  - manage issues and pull requests"
   ]
  },
  {
   "cell_type": "markdown",
   "metadata": {
    "slideshow": {
     "slide_type": "subslide"
    }
   },
   "source": [
    "### We (researchers, dataanalysts, developers) need git and GitHub\n",
    "- Most papers/projects are written by groups\n",
    "- Empirical and computational projects become more complex\n",
    "- The publication process entails multiple rounds of revisions\n",
    "- Reproducibility and transparency are key"
   ]
  },
  {
   "cell_type": "markdown",
   "metadata": {
    "slideshow": {
     "slide_type": "subslide"
    }
   },
   "source": [
    "### Learning git\n",
    "\n",
    "<div style=\"display: flex; justify-content: space-between;\">\n",
    "  <div style=\"flex: 1; padding-right: 20px;\">\n",
    "    <!-- Your text content here -->\n",
    "<ul>\n",
    "    <li>Learning git is a long journey</li>\n",
    "    <li>Payoffs are enormous and once you learned it you will not want to go back!</li>\n",
    "    <li>The best way to learn it is:</li>\n",
    "    <li>Learn git on your local computer first</li>\n",
    "    <li>Only use the shell!</li>\n",
    "    <li>Practice, practice, practice!</li>\n",
    "    <li>Don’t be afraid of an ugly and convoluted commit history, we won’t deduct anything for that</li>\n",
    "</ul> \n",
    "There is a learning curve, but I promise you it's worth it.\n",
    "  </div>\n",
    "  <div style=\"flex: 1;\">\n",
    "    <img src=\"img/xkcd-git.png\" style=\"height: 250px; \" >\n",
    "  </div>\n",
    "</div>\n",
    "\n"
   ]
  },
  {
   "cell_type": "markdown",
   "metadata": {
    "slideshow": {
     "slide_type": "subslide"
    }
   },
   "source": [
    "### Git model\n",
    "\n",
    "1. You do work in your <bcolor>working directory</bcolor>\n",
    "2. Then you add it to your <bcolor>staging area</bcolor>\n",
    "2. Once you've staged [all you changes for one discrete task](), <bcolor>commit</bcolor> a snapshot of the staging area\n",
    "3. If you have a remote repository, <bcolor>push your commit</bcolor>\n",
    "\n",
    "<img src=\"img/git-local-remote.webp\" style=\"height: 350px; position:relative;     margin-left: auto;margin-right: auto;display: block; background-color: #e5e0d8\" >\n"
   ]
  },
  {
   "cell_type": "markdown",
   "metadata": {
    "slideshow": {
     "slide_type": "slide"
    }
   },
   "source": [
    "## Getting started with git"
   ]
  },
  {
   "cell_type": "markdown",
   "metadata": {
    "slideshow": {
     "slide_type": "subslide"
    }
   },
   "source": [
    "### Setup [GitHub account](https://github.com/)\n",
    "\n",
    "- Navigate to [GitHub's homepage](https://github.com/) + \"Sign Up\"\n",
    "  - Go through the account setting steps (\"Verify your email address\"...)\n",
    "\n",
    "<img src=\"img/github sign up.png\"  style=\"height: 350px; position:relative;     margin-left: auto;margin-right: auto;display: block\" >\n",
    "\n",
    "Navigate to GitHub's homepage. Navigate to \"Sign Up\" in the top right hand side of the page."
   ]
  },
  {
   "cell_type": "markdown",
   "metadata": {
    "slideshow": {
     "slide_type": "subslide"
    }
   },
   "source": [
    "### Getting started with Git(Hub)\n",
    "\n",
    "1. Install [Git](https://git-scm.com/downloads) (Linux, Mac, Windows) if not already installed\n",
    "\n",
    "2. Git comes with a command line interface (powerful!).\n",
    "\n",
    "3. You might want to add a *graphical interface* to make things easier:\n",
    "  - [GitHub desktop](https://desktop.github.com/)\n",
    "  - You can link it with your GitHub account\n",
    "  - Or use the one from VSCode\n"
   ]
  },
  {
   "cell_type": "markdown",
   "metadata": {
    "slideshow": {
     "slide_type": "subslide"
    }
   },
   "source": [
    "### [Hint]  What actually is the Git repository?\n",
    "- The Git local repository is associated with a particular directory\n",
    "- Open the directory in your Git interface to see your options\n",
    "- Git stores all its workings in that directory in a hidden subfolder called “.git”\n",
    "\n",
    "**3 special options**:\n",
    "- <bcolor>```README.md```</bcolor>: description of the directory\n",
    "- <bcolor>.gitignore</bcolor>: what should be ignored by the tracking systel\n",
    "- <bcolor>licence</bcolor> $\\rightarrow$ open source?"
   ]
  },
  {
   "cell_type": "markdown",
   "metadata": {
    "slideshow": {
     "slide_type": "subslide"
    }
   },
   "source": [
    "### [Hint] What should I include?\n",
    "\n",
    "- At a minimum:\n",
    "\n",
    "  - Code (.do, .py, .R, .m, .jl, and so on)\n",
    "  - Text files (.txt)\n",
    "  - LATEX documents (.tex)\n",
    "\n",
    "- I also recommend:\n",
    "\n",
    "  - Raw .csv datasets, if small (<10 MB)\n",
    "\n",
    "- These are binary files, so you can’t see differences between versions. I recommend including them anyway.\n",
    "\n",
    "  - PDF files\n",
    "  - Word, Excel, PowerPoint files\n",
    "\n",
    "- Some people also include all datasets.\n",
    "\n",
    "  - Note that GitHub doesn’t allow files larger than 100 MB, or projects with total size larger than 1 GB.\n",
    "\n",
    "For datasets, look into Git Large File Storage.\n",
    "\n"
   ]
  },
  {
   "cell_type": "markdown",
   "metadata": {
    "slideshow": {
     "slide_type": "subslide"
    }
   },
   "source": [
    "### [Hint] What should I exclude?\n",
    "\n",
    "In order to avoid driving your collaborators crazy, you must tell Git to ignore the junk files using a file called .gitignore. It looks like this:\n",
    "- Junk created by LaTeX: $\\textrm{*.synctex.gz, *.out *.log }$\n",
    "- Junk created by Python:  $\\textrm{*.pyc}$\n",
    "\n",
    "**Best practice**: use .gitignore to explicitly exclude everything that you don’t want to include, and commit .gitignore like any other regular file.\n",
    "\n",
    "GitHub maintains a list of standard .gitignore files for many common languages.\n"
   ]
  },
  {
   "cell_type": "markdown",
   "metadata": {
    "slideshow": {
     "slide_type": "slide"
    }
   },
   "source": [
    "## Backbone of git: Commits & branches"
   ]
  },
  {
   "cell_type": "markdown",
   "metadata": {
    "slideshow": {
     "slide_type": "subslide"
    }
   },
   "source": [
    "### The lifecycle of files\n",
    "<img src=\"img/git_file_status_lifecycle.png\" style=\"height: 250px; position:relative;     margin-left: auto;margin-right: auto;display: block; background-color: #e5e0d8\" >\n",
    "\n",
    "- Save: `ctrl+S`\n",
    "- Add: `git add <filename>` or `git add .` (all files)\n",
    "  - You can see the staged files with `git status`\n",
    "- Commit: `git commit -m \"message\"`"
   ]
  },
  {
   "cell_type": "markdown",
   "metadata": {
    "slideshow": {
     "slide_type": "subslide"
    }
   },
   "source": [
    "### Commits: saving a snapshot\n",
    "\"One discrete task\" = a collection of changes, across multiple files (or not), that does *one thing*.\n",
    "\n",
    "*Examples*:\n",
    "- Change the formatting of a variable from string to numeric, and treat it properly across multiple scripts\n",
    "- Change your regression specification in code, in the output, and in your paper and supporting documentation\n",
    "- Add a new function"
   ]
  },
  {
   "cell_type": "markdown",
   "metadata": {
    "slideshow": {
     "slide_type": "notes"
    }
   },
   "source": [
    "### Before you commit\n",
    "\n",
    "- Your code should run properly $\\rightarrow$ run tests\n",
    "- No compilation erros (in Latex for example)\n",
    "- Output should be consistent inside the commit (including comments)\n",
    "\n",
    "But it’s better to have *frequent commits* (that might have small mistakes) than to have *giant, infrequent* commits.\n",
    "\n",
    "#### Checking the status of your repository (in the shell)\n",
    "```bash\n",
    "git status\n",
    "```\n"
   ]
  },
  {
   "cell_type": "markdown",
   "metadata": {
    "slideshow": {
     "slide_type": "subslide"
    }
   },
   "source": [
    "### Viewing changes when committing\n",
    "<img src=\"img/commit-example.png\" style=\"height: 400px; position:relative;     margin-left: auto;margin-right: auto;display: block; background-color: #e5e0d8\" >"
   ]
  },
  {
   "cell_type": "markdown",
   "metadata": {
    "slideshow": {
     "slide_type": "subslide"
    }
   },
   "source": [
    "### Commit message\n",
    "<div style=\"display: flex; justify-content: space-between;\">\n",
    "  <div style=\"flex: 1; padding-right: 20px;\">\n",
    "    <!-- Your text content here -->\n",
    "<p>Examples:</p>\n",
    "<ul>\n",
    "    <li>“Change the formatting of start date variable from string to date format”</li>\n",
    "    <li>“Add year dummies to regression specification”</li>\n",
    "</ul>\n",
    "<p>&#x2192; The more detail, the more your future self will thank you.</p>\n",
    "\n",
    "<code>\n",
    "git commit -m \"Add slide on the commit git lecture\"\n",
    "</code>\n",
    "\n",
    "  </div>\n",
    "  <div style=\"flex: 1;\">\n",
    "<img src=\"img/commit-message.png\" style=\"height: 500px; position:relative;     margin-left: auto;margin-right: auto;display: block\" >\n",
    "  </div>\n",
    "</div>"
   ]
  },
  {
   "cell_type": "markdown",
   "metadata": {
    "slideshow": {
     "slide_type": "notes"
    }
   },
   "source": [
    "### Viewing commit history\n",
    "\n",
    "<img src=\"img/commit-history.png\" style=\"height: 350px; position:relative;     margin-left: auto;margin-right: auto;display: block\" >\n"
   ]
  },
  {
   "cell_type": "markdown",
   "metadata": {
    "slideshow": {
     "slide_type": "subslide"
    }
   },
   "source": [
    "### When things go wrong: go back in time!\n",
    "What happens when a commit was a mistake? <bcolor>Revert it</bcolor>, to make a new commit that undoes it.\n",
    "\n",
    "```bash\n",
    "git revert <commit_id>\n",
    "```\n",
    "\n",
    "#### Or in the GUI\n",
    "<img src=\"img/commit-revert.png\" style=\"height: 300px; position:relative;     margin-left: auto;margin-right: auto;display: block\" >\n"
   ]
  },
  {
   "cell_type": "markdown",
   "metadata": {
    "slideshow": {
     "slide_type": "subslide"
    }
   },
   "source": [
    "### This can happen!\n",
    "\n",
    "<img src=\"img/xkcd-git-commit.png\" style=\"height: 450px; position:relative;     margin-left: auto;margin-right: auto;display: block\" >\n",
    "\n",
    "Source: https://xkcd.com/1296/"
   ]
  },
  {
   "cell_type": "markdown",
   "metadata": {
    "slideshow": {
     "slide_type": "subslide"
    }
   },
   "source": [
    "### Much more to learn on git & GitHub\n",
    "- Branches\n",
    "- Merging\n",
    "  - Solvign conflicts\n",
    "- Pull requests\n",
    "- Collaboration\n",
    "- Issues"
   ]
  },
  {
   "cell_type": "markdown",
   "metadata": {
    "slideshow": {
     "slide_type": "notes"
    }
   },
   "source": [
    "### Branches: trying things out\n",
    "Branches are the most powerful part of Git\n",
    "\n",
    "- By default, all the work you do goes into the “main” branch\n",
    "\n",
    "- Want to experiment? Start a new branch\n",
    "  - You can switch between branches, and make commits to either branch\n",
    "\n",
    "- If your experiment works out, commit and merge back into the master branch\n",
    "  - If there are conflicts between the commits you’ve made on the two branches, Git will ask you to resolve them\n",
    "  - This is easiest with a graphical interface like GitKraken\n",
    "  - Only works with binary files\n",
    "  - If your experiment doesn’t work out, delete the new branch painlessly\n",
    "\n"
   ]
  },
  {
   "cell_type": "markdown",
   "metadata": {
    "slideshow": {
     "slide_type": "notes"
    }
   },
   "source": [
    "### Collaborating: interacting with the remote directory\n",
    "The remote repository is on a server, and holds a record of your commits and branches\n",
    "\n",
    "You push to the remote repository to save all your commits\n",
    "- You pull from the remote repository to load all new commits\n",
    "- Always commit before pushing or pulling\n",
    "- If what you’re doing is an experiment, make a new branch to avoid any trouble for your coauthor\n",
    "- If there are conflicts between your commits and your colleagues’s commits, Git will ask you to resolve them\n"
   ]
  },
  {
   "cell_type": "markdown",
   "metadata": {
    "slideshow": {
     "slide_type": "subslide"
    }
   },
   "source": [
    "\n",
    "## Basic workflow: push - pull\n",
    "<img src=\"img/git-push.webp\" style=\"height: 350px; position:relative;     margin-left: auto;margin-right: auto;display: block;background-color: #e5e0d8\" >\n",
    "\n",
    "This is what happens between your computer (local) and your repository (remote).\n",
    "\n",
    "```bash\n",
    "git push origin <branch_name>\n",
    "```\n",
    "```bash\n",
    "git pull origin <branch_name>\n",
    "```\n"
   ]
  },
  {
   "cell_type": "markdown",
   "metadata": {
    "slideshow": {
     "slide_type": "subslide"
    }
   },
   "source": [
    "### Pushing to the remote repository (GitHub Desktop)\n",
    "<img src=\"img/github-push.png\" style=\"height: 150px; position:relative;     margin-left: auto;margin-right: auto;display: block;background-color: #e5e0d8\" >\n",
    "\n",
    "```bash\n",
    "git push origin <branch_name>\n",
    "```\n",
    "\n",
    "Sending my commits to the internet!\n",
    "\n",
    "\n"
   ]
  },
  {
   "cell_type": "markdown",
   "metadata": {
    "slideshow": {
     "slide_type": "notes"
    },
    "vscode": {
     "languageId": "html"
    }
   },
   "source": [
    "### Create a remote repository\n",
    "<img src=\"img/github-new-repo.png\" style=\"height: 250px; position:relative;     margin-left: auto;margin-right: auto;display: block\" >\n",
    "\n",
    "- Make sure you click the box to initialize it with a README\n",
    "- gitignore $\\rightarrow$ python template\n",
    "- licence"
   ]
  },
  {
   "cell_type": "markdown",
   "metadata": {
    "slideshow": {
     "slide_type": "notes"
    }
   },
   "source": [
    "## Create a remote repository\n",
    "<img src=\"img/github-repo-options.png\" style=\"height: 350px; position:relative;     margin-left: auto;margin-right: auto;display: block\" >"
   ]
  },
  {
   "cell_type": "markdown",
   "metadata": {
    "slideshow": {
     "slide_type": "subslide"
    },
    "vscode": {
     "languageId": "html"
    }
   },
   "source": [
    "### The README.md\n",
    "\n",
    "- Very important file!\n",
    "  - Objective: communicate important information about your project\n",
    "- A markdown file\n",
    "- Markdown?= lightweight markup language\n",
    "  - [The guide](https://www.markdownguide.org/getting-started/)\n",
    "  - [The syntax](https://www.markdownguide.org/basic-syntax/)\n",
    "\n",
    "Not only useful for README: for eg., these slides are written in markdown!"
   ]
  },
  {
   "cell_type": "markdown",
   "metadata": {
    "slideshow": {
     "slide_type": "notes"
    },
    "vscode": {
     "languageId": "html"
    }
   },
   "source": [
    "### Basic work: clone or fork ?\n",
    "\n",
    " <img src=\"img/git-clone-fork.png\" style=\"height: 500px; position:relative;     margin-left: auto;margin-right: auto;display: block;background-color: #e5e0d8\" >\n"
   ]
  },
  {
   "cell_type": "markdown",
   "metadata": {
    "slideshow": {
     "slide_type": "notes"
    }
   },
   "source": [
    "### Cloning a repo\n",
    "\n",
    "<img src=\"img/github-clone.png\" style=\"height: 400px; position:relative;     margin-left: auto;margin-right: auto;display: block;background-color: #e5e0d8\" >\n"
   ]
  }
 ],
 "metadata": {
  "kernelspec": {
   "display_name": "DataManagement2024b",
   "language": "python",
   "name": "python3"
  },
  "language_info": {
   "codemirror_mode": {
    "name": "ipython",
    "version": 3
   },
   "file_extension": ".py",
   "mimetype": "text/x-python",
   "name": "python",
   "nbconvert_exporter": "python",
   "pygments_lexer": "ipython3",
   "version": "3.12.6"
  },
  "toc": {
   "base_numbering": 1,
   "nav_menu": {},
   "number_sections": false,
   "sideBar": true,
   "skip_h1_title": false,
   "title_cell": "Table of Contents",
   "title_sidebar": "Contents",
   "toc_cell": false,
   "toc_position": {},
   "toc_section_display": true,
   "toc_window_display": false
  }
 },
 "nbformat": 4,
 "nbformat_minor": 2
}
