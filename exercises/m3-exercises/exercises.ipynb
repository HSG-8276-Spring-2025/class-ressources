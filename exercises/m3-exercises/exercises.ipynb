{
 "cells": [
  {
   "cell_type": "markdown",
   "id": "0",
   "metadata": {},
   "source": [
    "# In-Class Exercises 3\n",
    "\n",
    "> **Note:**\n",
    "> \n",
    "> Please commit every time you solve one of the exercises. An example commit message\n",
    "> could be `\"Solution to question 1\"`. Feel free to commit more than once per\n",
    "> exercise if solving it requires multiple complicated steps."
   ]
  },
  {
   "attachments": {},
   "cell_type": "markdown",
   "id": "1",
   "metadata": {},
   "source": [
    "## Python\n",
    "\n",
    "---\n",
    "### Question 1\n",
    "\n",
    "Write a function that takes an integer and check whether it is a prime number, i.e. if \n",
    "called with a prime number it should return True, else it should return False. \n",
    "\n",
    "Use a brute force approach with a for loop and do not think about smart algorithms.\n",
    "\n",
    "Reminder: A prime number is a natural number that has exactly two natural divisors\n",
    "(1 and itself). By this definition, 1 is not a prime number but 2 is."
   ]
  },
  {
   "cell_type": "code",
   "execution_count": null,
   "id": "2",
   "metadata": {},
   "outputs": [],
   "source": []
  },
  {
   "cell_type": "markdown",
   "id": "3",
   "metadata": {},
   "source": [
    "Use this function to create a list of all prime numbers smaller than 10."
   ]
  },
  {
   "cell_type": "code",
   "execution_count": null,
   "id": "4",
   "metadata": {},
   "outputs": [],
   "source": []
  },
  {
   "cell_type": "markdown",
   "id": "5",
   "metadata": {},
   "source": [
    "---\n",
    "### Question 2\n",
    "\n",
    "Write a function that takes a list of keys and a list of values and creates a \n",
    "dictionary containing the key value pairs. "
   ]
  },
  {
   "cell_type": "code",
   "execution_count": null,
   "id": "6",
   "metadata": {},
   "outputs": [],
   "source": []
  },
  {
   "cell_type": "markdown",
   "id": "9",
   "metadata": {},
   "source": [
    "---\n",
    "### Question 3\n",
    "\n",
    "**Understanding side effects of functions**\n",
    "\n",
    "Consider the following code snippet:"
   ]
  },
  {
   "cell_type": "code",
   "execution_count": null,
   "id": "10",
   "metadata": {},
   "outputs": [],
   "source": [
    "def power_utility_loss_aversion(z_list, gamma, lambda_):\n",
    "    \"\"\"Calculate the power utility function with loss aversion.\n",
    "\n",
    "    Args:\n",
    "        z_list (list): Monetary quantities\n",
    "        gamma (float): Curvature parameter\n",
    "        lambda_ (float): Loss aversion parameter.\n",
    "\n",
    "    Returns:\n",
    "        list: Utility evaluations.\n",
    "    \"\"\"\n",
    "    out = z_list\n",
    "    for i, z in enumerate(z_list):\n",
    "        if z >= 0:\n",
    "            out[i] = z ** (1 - gamma)\n",
    "        else:\n",
    "            out[i] = -lambda_ * (-z) ** (1 - gamma)\n",
    "\n",
    "    return out\n",
    "\n",
    "\n",
    "# Define the characteristics of the individual.\n",
    "power_coefficient = 0.5\n",
    "loss_aversion_coefficient = 2.0\n",
    "\n",
    "# Define the monetary payoffs.\n",
    "payoffs = [500, -550]\n",
    "\n",
    "# Compute the utility values\n",
    "evaluations = power_utility_loss_aversion(\n",
    "    z_list=payoffs,\n",
    "    gamma=power_coefficient,\n",
    "    lambda_=loss_aversion_coefficient,\n",
    ")\n",
    "\n",
    "# Print the utility values to the screen.\n",
    "print(evaluations)\n",
    "\n",
    "# Goal: Understand what happened here.\n",
    "print(payoffs)"
   ]
  },
  {
   "cell_type": "markdown",
   "id": "11",
   "metadata": {},
   "source": [
    "The screencasts so far have covered everything you need to know. However, some of the concepts here are difficult. This is why we use the [Python Tutor](http://pythontutor.com/) to look a bit deeper into the code execution:\n",
    "\n",
    "1. Run the code snippet above through [http://pythontutor.com/](http://pythontutor.com/)\n",
    "1. Make sure to understand what happens **in each step**. Before executing the next step, predict what will happen to the variables in memory and why. If your model of the Python language is off, discuss with your group members.\n",
    "1. Describe precisely what side effect the function has. Which variable is affected by the side effect and how? \n",
    "1. Describe a scenario in which this side effect can lead to incorrect results.\n",
    "\n",
    "\n",
    "Be prepared to explain your group's answers in the plenary session.\n"
   ]
  }
 ],
 "metadata": {
  "language_info": {
   "codemirror_mode": {
    "name": "ipython",
    "version": 3
   },
   "file_extension": ".py",
   "mimetype": "text/x-python",
   "name": "python",
   "nbconvert_exporter": "python",
   "pygments_lexer": "ipython3"
  }
 },
 "nbformat": 4,
 "nbformat_minor": 5
}
