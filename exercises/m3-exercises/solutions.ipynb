{
 "cells": [
  {
   "cell_type": "markdown",
   "id": "0",
   "metadata": {},
   "source": [
    "# In-Class Exercises 3 (solution)\n",
    "\n",
    "> **Note:**\n",
    "> \n",
    "> Please commit every time you solve one of the exercises. An example commit message\n",
    "> could be `\"Solution to question 1\"`. Feel free to commit more than once per\n",
    "> exercise if solving it requires multiple complicated steps."
   ]
  },
  {
   "attachments": {},
   "cell_type": "markdown",
   "id": "1",
   "metadata": {},
   "source": [
    "## Python\n",
    "\n",
    "---\n",
    "### Question 1\n",
    "\n",
    "Write a function that takes an integer and check whether it is a prime number, i.e. if \n",
    "called with a prime number it should return True, else it should return False. \n",
    "\n",
    "Use a brute force approach with a for loop and do not think about smart algorithms.\n",
    "\n",
    "Reminder: A prime number is a natural number that has exactly two natural divisors\n",
    "(1 and itself). By this definition, 1 is not a prime number but 2 is."
   ]
  },
  {
   "cell_type": "code",
   "execution_count": 1,
   "id": "2",
   "metadata": {},
   "outputs": [],
   "source": [
    "def is_prime(num):\n",
    "    if num <= 1:\n",
    "        out = False\n",
    "    else:\n",
    "        out = True\n",
    "        for i in range(2, num):\n",
    "            if num % i == 0:\n",
    "                out = False\n",
    "    return out"
   ]
  },
  {
   "cell_type": "markdown",
   "id": "3",
   "metadata": {},
   "source": [
    "Use this function to create a list of all prime numbers smaller than 10."
   ]
  },
  {
   "cell_type": "code",
   "execution_count": 2,
   "id": "9816744d",
   "metadata": {},
   "outputs": [
    {
     "name": "stdout",
     "output_type": "stream",
     "text": [
      "[2, 3, 5, 7]\n"
     ]
    }
   ],
   "source": [
    "primes = []\n",
    "nmax = 10\n",
    "for i in range(1, nmax+1):\n",
    "    if is_prime(i)==True:\n",
    "        primes.append(i)\n",
    "print(primes)"
   ]
  },
  {
   "cell_type": "code",
   "execution_count": 3,
   "id": "4",
   "metadata": {},
   "outputs": [
    {
     "data": {
      "text/plain": [
       "[2, 3, 5, 7]"
      ]
     },
     "execution_count": 3,
     "metadata": {},
     "output_type": "execute_result"
    }
   ],
   "source": [
    "primes = []\n",
    "\n",
    "for i in range(10):\n",
    "    if is_prime(i):\n",
    "        primes.append(i)\n",
    "\n",
    "primes"
   ]
  },
  {
   "cell_type": "markdown",
   "id": "5",
   "metadata": {},
   "source": [
    "---\n",
    "### Question 2\n",
    "\n",
    "Write a function that takes a list of keys and a list of values and creates a \n",
    "dictionary containing the key value pairs. "
   ]
  },
  {
   "cell_type": "code",
   "execution_count": 4,
   "id": "08e61041",
   "metadata": {},
   "outputs": [],
   "source": [
    "def create_dictionary_from_k_v(keys, values):\n",
    "    dictionary = {} \n",
    "    for i in range(0,len(keys)):\n",
    "        dictionary[keys[i]]= values[i]\n",
    "    return dictionary"
   ]
  },
  {
   "cell_type": "code",
   "execution_count": 5,
   "id": "6",
   "metadata": {},
   "outputs": [],
   "source": [
    "def combine_keys_and_values(keys, values):\n",
    "    out = {}\n",
    "    for i in range(len(keys)):\n",
    "        out[keys[i]] = values[i]\n",
    "    return out"
   ]
  },
  {
   "cell_type": "code",
   "execution_count": 6,
   "id": "cd9ac94a",
   "metadata": {},
   "outputs": [
    {
     "data": {
      "text/plain": [
       "{'a': 1, 'b': 2, 'c': 3}"
      ]
     },
     "execution_count": 6,
     "metadata": {},
     "output_type": "execute_result"
    }
   ],
   "source": [
    "keys = ['a', 'b', 'c']\n",
    "values = [1, 2, 3]\n",
    "combined = combine_keys_and_values(keys, values)\n",
    "combined"
   ]
  },
  {
   "cell_type": "markdown",
   "id": "9",
   "metadata": {},
   "source": [
    "---\n",
    "### Question 3\n",
    "\n",
    "**Understanding side effects of functions**\n",
    "\n",
    "Consider the following code snippet:"
   ]
  },
  {
   "cell_type": "code",
   "execution_count": 7,
   "id": "10",
   "metadata": {},
   "outputs": [
    {
     "name": "stdout",
     "output_type": "stream",
     "text": [
      "[22.360679774997898, -46.9041575982343]\n",
      "[22.360679774997898, -46.9041575982343]\n"
     ]
    }
   ],
   "source": [
    "def power_utility_loss_aversion(z_list, gamma, lambda_):\n",
    "    \"\"\"Calculate the power utility function with loss aversion.\n",
    "\n",
    "    Args:\n",
    "        z_list (list): Monetary quantities\n",
    "        gamma (float): Curvature parameter\n",
    "        lambda_ (float): Loss aversion parameter.\n",
    "\n",
    "    Returns:\n",
    "        list: Utility evaluations.\n",
    "    \"\"\"\n",
    "    out = z_list\n",
    "    for i, z in enumerate(z_list):\n",
    "        if z >= 0:\n",
    "            out[i] = z ** (1 - gamma)\n",
    "        else:\n",
    "            out[i] = -lambda_ * (-z) ** (1 - gamma)\n",
    "\n",
    "    return out\n",
    "\n",
    "\n",
    "# Define the characteristics of the individual.\n",
    "power_coefficient = 0.5\n",
    "loss_aversion_coefficient = 2.0\n",
    "\n",
    "# Define the monetary payoffs.\n",
    "payoffs = [500, -550]\n",
    "\n",
    "# Compute the utility values\n",
    "evaluations = power_utility_loss_aversion(\n",
    "    z_list=payoffs,\n",
    "    gamma=power_coefficient,\n",
    "    lambda_=loss_aversion_coefficient,\n",
    ")\n",
    "\n",
    "# Print the utility values to the screen.\n",
    "print(evaluations)\n",
    "\n",
    "# Goal: Understand what happened here.\n",
    "print(payoffs)"
   ]
  },
  {
   "cell_type": "markdown",
   "id": "11",
   "metadata": {},
   "source": [
    "The screencasts so far have covered everything you need to know. However, some of the concepts here are difficult. This is why we use the [Python Tutor](http://pythontutor.com/) to look a bit deeper into the code execution:\n",
    "\n",
    "1. Run the code snippet above through [http://pythontutor.com/](http://pythontutor.com/)\n",
    "1. Make sure to understand what happens **in each step**. Before executing the next step, predict what will happen to the variables in memory and why. If your model of the Python language is off, discuss with your group members.\n",
    "1. Describe precisely what side effect the function has. Which variable is affected by the side effect and how? \n",
    "1. Describe a scenario in which this side effect can lead to incorrect results.\n",
    "\n",
    "\n",
    "Be prepared to explain your group's answers in the plenary session.\n"
   ]
  },
  {
   "cell_type": "markdown",
   "id": "925ce1ef",
   "metadata": {},
   "source": [
    "### Solution\n",
    "The first line in the function definition (`out = z_list`) simply makes `z_list`\n",
    "accessible under the new label `out`. It does not create a copy of `z_list`.\n",
    "\n",
    "Therefore, when we replace entries in out, they will also get replaced in `z_list`. \n",
    "\n",
    "So the side effect of the function is that one of its inputs (z_list) gets modified by\n",
    "the function. \n",
    "\n",
    "A simple example where this side effect would lead to a mistake is if you want to plot \n",
    "inputs against outputs. You would always end up with a 45 degree line.\n",
    "\n",
    "In the above example, the side effect is clearly accidental. However, some programmers\n",
    "use side effects on purpose. The proponents of functional programming discourage all\n",
    "side-effects because they increase the complexity of code (each time you call a function\n",
    "you have to worry about side effects) and lead to many errors that are hard to debug. \n"
   ]
  },
  {
   "cell_type": "markdown",
   "id": "a83b6db9",
   "metadata": {},
   "source": []
  }
 ],
 "metadata": {
  "kernelspec": {
   "display_name": "hsg-spring2025",
   "language": "python",
   "name": "python3"
  },
  "language_info": {
   "codemirror_mode": {
    "name": "ipython",
    "version": 3
   },
   "file_extension": ".py",
   "mimetype": "text/x-python",
   "name": "python",
   "nbconvert_exporter": "python",
   "pygments_lexer": "ipython3",
   "version": "3.12.6"
  }
 },
 "nbformat": 4,
 "nbformat_minor": 5
}
