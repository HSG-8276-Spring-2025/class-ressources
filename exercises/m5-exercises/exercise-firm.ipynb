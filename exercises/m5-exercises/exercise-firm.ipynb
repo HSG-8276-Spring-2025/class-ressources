{
 "cells": [
  {
   "cell_type": "markdown",
   "id": "e7a281a1",
   "metadata": {},
   "source": [
    "# In-class exercise 5b: classification\n",
    "## Predicting firms' default"
   ]
  },
  {
   "cell_type": "markdown",
   "id": "21398684",
   "metadata": {},
   "source": [
    "The objective is to build a classifier for whether a firm is going to default. "
   ]
  },
  {
   "cell_type": "code",
   "execution_count": null,
   "id": "841838f3",
   "metadata": {},
   "outputs": [],
   "source": [
    "import numpy as np\n",
    "import pandas as pd\n",
    "# import patsy\n",
    "\n",
    "from sklearn.preprocessing import StandardScaler, OneHotEncoder\n",
    "from sklearn.model_selection import GridSearchCV, KFold, train_test_split\n",
    "from sklearn.linear_model import LogisticRegression, LogisticRegressionCV\n",
    "from sklearn.pipeline import Pipeline\n",
    "from sklearn.metrics import roc_curve, roc_auc_score, classification_report, accuracy_score, confusion_matrix \n",
    "\n",
    "import seaborn as sns\n",
    "import matplotlib.pyplot as plt"
   ]
  },
  {
   "cell_type": "markdown",
   "id": "49b2ea3b",
   "metadata": {},
   "source": [
    "### Question 1. Prepare & visualise data\n",
    "- What is the shape of the data? How many firms are in the dataset? How many features are there? What is the target variable? What is the distribution of the target variable? Visualise it.\n",
    "- Create the feature matrix $X$ and the target vector $y$"
   ]
  },
  {
   "cell_type": "code",
   "execution_count": null,
   "id": "dc2cd2c9",
   "metadata": {},
   "outputs": [],
   "source": []
  },
  {
   "cell_type": "markdown",
   "id": "3b0eefaa",
   "metadata": {},
   "source": [
    "## Question 2. Train-test split \n",
    "Are the sets balanced in terms of the share of defaults?"
   ]
  },
  {
   "cell_type": "code",
   "execution_count": null,
   "id": "8574867e",
   "metadata": {},
   "outputs": [],
   "source": []
  },
  {
   "cell_type": "markdown",
   "id": "7b270849",
   "metadata": {},
   "source": [
    "## Domain knowledge selection for the features\n",
    "There are so many variables !\n",
    "\n",
    "We are going to compare several models : \n",
    "- Logit with a selection of variables **M1**\n",
    "- Logit with a selection of variables **M2**\n",
    "- Regularized logit on **M2** variables"
   ]
  },
  {
   "cell_type": "markdown",
   "id": "83b02c37",
   "metadata": {},
   "source": [
    "Firm related variables"
   ]
  },
  {
   "cell_type": "code",
   "execution_count": null,
   "id": "6b0597bf",
   "metadata": {},
   "outputs": [],
   "source": [
    "firm = [\"age\", \"age2\", \"new\", \"ind2_cat\", \"m_region_loc\", \"urban_m\"]"
   ]
  },
  {
   "cell_type": "markdown",
   "id": "b138896a",
   "metadata": {},
   "source": [
    "Human capital related variables"
   ]
  },
  {
   "cell_type": "code",
   "execution_count": null,
   "id": "73597e34",
   "metadata": {},
   "outputs": [],
   "source": [
    "hr = [\n",
    "    \"female\",\n",
    "    \"ceo_age\",\n",
    "    \"flag_high_ceo_age\",\n",
    "    \"flag_low_ceo_age\",\n",
    "    \"flag_miss_ceo_age\",\n",
    "    \"ceo_count\",\n",
    "    \"labor_avg_mod\",\n",
    "    \"flag_miss_labor_avg\",\n",
    "    \"foreign_management\",\n",
    "]"
   ]
  },
  {
   "cell_type": "markdown",
   "id": "d77ab276",
   "metadata": {},
   "source": [
    "Financial variables"
   ]
  },
  {
   "cell_type": "code",
   "execution_count": null,
   "id": "ee13b6e3",
   "metadata": {},
   "outputs": [],
   "source": [
    "qualityvars = [\"balsheet_flag\", \"balsheet_length\", \"balsheet_notfullyear\"]\n",
    "\n",
    "engvar = [\n",
    "    \"total_assets_bs\",\n",
    "    \"fixed_assets_bs\",\n",
    "    \"liq_assets_bs\",\n",
    "    \"curr_assets_bs\",\n",
    "    \"share_eq_bs\",\n",
    "    \"subscribed_cap_bs\",\n",
    "    \"intang_assets_bs\",\n",
    "    \"extra_exp_pl\",\n",
    "    \"extra_inc_pl\",\n",
    "    \"extra_profit_loss_pl\",\n",
    "    \"inc_bef_tax_pl\",\n",
    "    \"inventories_pl\",\n",
    "    \"material_exp_pl\",\n",
    "    \"profit_loss_year_pl\",\n",
    "    \"personnel_exp_pl\",\n",
    "]"
   ]
  },
  {
   "cell_type": "markdown",
   "id": "5cc05f48",
   "metadata": {},
   "source": [
    "Growth variables"
   ]
  },
  {
   "cell_type": "code",
   "execution_count": null,
   "id": "cfd49139",
   "metadata": {},
   "outputs": [],
   "source": [
    "d1 = [ \n",
    "    \"d1_sales_mil_log_mod\",\n",
    "    \"d1_sales_mil_log_mod_sq\",\n",
    "    \"flag_low_d1_sales_mil_log\",\n",
    "    \"flag_high_d1_sales_mil_log\",\n",
    "]"
   ]
  },
  {
   "cell_type": "code",
   "execution_count": null,
   "id": "b8392dec",
   "metadata": {},
   "outputs": [],
   "source": [
    "M1 = [\n",
    "    \"sales_mil_log\",\n",
    "    \"sales_mil_log_sq\",\n",
    "    \"d1_sales_mil_log_mod\",\n",
    "    \"profit_loss_year_pl\",\n",
    "    \"fixed_assets_bs\",\n",
    "    \"share_eq_bs\",\n",
    "    \"age\",\n",
    "    \"foreign_management\",\n",
    "    \"ind2_cat\",\n",
    "]\n",
    "M2 = [\"sales_mil_log\", \"sales_mil_log_sq\"] + firm + engvar + d1 + hr\n",
    "len(M2)"
   ]
  },
  {
   "cell_type": "markdown",
   "id": "d4f4b242",
   "metadata": {},
   "source": [
    "#### Selection of the relevant variables"
   ]
  },
  {
   "cell_type": "code",
   "execution_count": null,
   "id": "da7971b3",
   "metadata": {},
   "outputs": [],
   "source": [
    "# M1\n",
    "X_train_M1=X_train[M1]\n",
    "X_test_M1 =X_test[M1]"
   ]
  },
  {
   "cell_type": "code",
   "execution_count": null,
   "id": "84a0d449",
   "metadata": {},
   "outputs": [],
   "source": [
    "# M2\n",
    "X_train_M2=X_train[M2]\n",
    "X_test_M2 =X_test[M2]"
   ]
  },
  {
   "cell_type": "markdown",
   "id": "32d7d02d",
   "metadata": {},
   "source": [
    "## Question 3: Model with selected variables **M1**\n",
    "\n",
    "- Build a logit model with the selected variables **M1**. \n",
    "- Fit the model using cross-validation using the `pipeline` function from `sklearn`.\n",
    "- What is the accuracy of the model on the training set? What is the accuracy of the model on the test set?"
   ]
  },
  {
   "cell_type": "code",
   "execution_count": null,
   "id": "7a6f98ce",
   "metadata": {},
   "outputs": [],
   "source": []
  },
  {
   "cell_type": "markdown",
   "id": "4fc8df17",
   "metadata": {},
   "source": [
    "## Question 4: Implement a similar approach for the  **M2** set. "
   ]
  },
  {
   "cell_type": "code",
   "execution_count": null,
   "id": "93716d60",
   "metadata": {},
   "outputs": [],
   "source": []
  },
  {
   "cell_type": "markdown",
   "id": "3e5ab30b",
   "metadata": {},
   "source": [
    "## Question 5: plot the ROC curve for the model with selected variables **M2**"
   ]
  },
  {
   "cell_type": "code",
   "execution_count": null,
   "id": "b7ed4ea9",
   "metadata": {},
   "outputs": [],
   "source": []
  },
  {
   "cell_type": "markdown",
   "id": "59f38305",
   "metadata": {},
   "source": [
    "## Question 6: Comparing performance for the 2 logit models using the `auc` and `accuracy` metrics \n",
    "\n",
    "Which model is better ?"
   ]
  },
  {
   "cell_type": "code",
   "execution_count": null,
   "id": "c070eb45",
   "metadata": {},
   "outputs": [],
   "source": []
  },
  {
   "cell_type": "markdown",
   "id": "ce793310",
   "metadata": {},
   "source": [
    "## Question 7: Re-estimate the model on the full dataset"
   ]
  },
  {
   "cell_type": "code",
   "execution_count": null,
   "id": "88916ad0",
   "metadata": {},
   "outputs": [],
   "source": []
  }
 ],
 "metadata": {
  "kernelspec": {
   "display_name": "hsg-spring2025",
   "language": "python",
   "name": "python3"
  },
  "language_info": {
   "codemirror_mode": {
    "name": "ipython",
    "version": 3
   },
   "file_extension": ".py",
   "mimetype": "text/x-python",
   "name": "python",
   "nbconvert_exporter": "python",
   "pygments_lexer": "ipython3",
   "version": "3.12.6"
  }
 },
 "nbformat": 4,
 "nbformat_minor": 5
}
