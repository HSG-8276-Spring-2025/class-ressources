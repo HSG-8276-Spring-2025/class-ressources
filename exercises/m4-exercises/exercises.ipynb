{
 "cells": [
  {
   "cell_type": "markdown",
   "id": "0",
   "metadata": {},
   "source": [
    "# In-Class Exercises 4\n",
    "\n",
    "The data that you will use come from the [replication package]() to Ricardo Duque\n",
    "Gabriel, Mathias Klein, and Ana Sofia Pessoa: *The Political Costs of Austerity*,\n",
    "forthcoming at the Review of Economics and Statistics.\n",
    "\n",
    "> **Note:**\n",
    "> \n",
    "> Please commit every time you solve one of the exercises. An example commit message\n",
    "> could be `\"Solution to question 1\"`. Feel free to commit more than once per\n",
    "> exercise if solving it requires multiple complicated steps.\n",
    ">\n",
    "> Push every now and then and switch to somebody else's machine."
   ]
  },
  {
   "attachments": {},
   "cell_type": "markdown",
   "id": "1",
   "metadata": {},
   "source": [
    "## Using the `pathlib` library"
   ]
  },
  {
   "cell_type": "markdown",
   "id": "875d3da7",
   "metadata": {},
   "source": [
    "---\n",
    "### Question 1\n",
    "\n",
    "Assign the path of the current directory to a variable `this_dir`. \n",
    "\n",
    "Verify that the type of the variable is `pathlib.PosixPath` (`PosixPath` are used on Unix-like systems such as Linux ans macOS) or `pathlib.WindowsPath`. \n",
    "\n",
    "Display the absolute path of the directory."
   ]
  },
  {
   "cell_type": "code",
   "execution_count": 1,
   "id": "3",
   "metadata": {},
   "outputs": [
    {
     "data": {
      "text/plain": [
       "PosixPath('.')"
      ]
     },
     "execution_count": 1,
     "metadata": {},
     "output_type": "execute_result"
    }
   ],
   "source": [
    "from pathlib import Path\n",
    "this_dir = Path(\".\")\n",
    "this_dir"
   ]
  },
  {
   "cell_type": "code",
   "execution_count": 2,
   "id": "3ff1fa4f",
   "metadata": {},
   "outputs": [
    {
     "data": {
      "text/plain": [
       "PosixPath('/Users/malka/Dropbox/teaching-uliege/ HSG-8276-Spring-2025/m4-exercises')"
      ]
     },
     "execution_count": 2,
     "metadata": {},
     "output_type": "execute_result"
    }
   ],
   "source": [
    "this_dir.resolve()"
   ]
  },
  {
   "cell_type": "markdown",
   "id": "4",
   "metadata": {},
   "source": [
    "---\n",
    "### Question 2\n",
    "\n",
    "In the `original_data` directory, there is a file called `Data_Elections.dta`. Assign\n",
    "the path of this file to a variable `data_file`. The type of the variable should be \n",
    "`pathlib.PosixPath` or `pathlib.WindowsPath`. \n",
    "\n",
    "- When creating the `Path` object, do not use absolute paths.\n",
    "- Display the absolute path of the `data_file`."
   ]
  },
  {
   "cell_type": "code",
   "execution_count": 3,
   "id": "5",
   "metadata": {},
   "outputs": [
    {
     "data": {
      "text/plain": [
       "True"
      ]
     },
     "execution_count": 3,
     "metadata": {},
     "output_type": "execute_result"
    }
   ],
   "source": [
    "file = this_dir / \"original_data\" / \"Data_Elections.dta\"\n",
    "file.exists()"
   ]
  },
  {
   "cell_type": "markdown",
   "id": "6",
   "metadata": {},
   "source": [
    "---\n",
    "### Bonus: Question 3 \n",
    "\n",
    "This question is optional and meant to sharpen your theoretical understanding for absolute and relative paths. Skip if you want. \n",
    "\n",
    "Using only the objects `this_dir` and `data_file` along with their methods, get the relative path to `data_file` as seen from `this_dir`. Display the relative path.\n",
    "\n",
    "> Note: We have not seen this in the screencast; you are on your own with your favourite\n",
    "> search engine."
   ]
  },
  {
   "cell_type": "code",
   "execution_count": null,
   "id": "7",
   "metadata": {},
   "outputs": [],
   "source": []
  },
  {
   "cell_type": "markdown",
   "id": "8",
   "metadata": {},
   "source": [
    "## pandas"
   ]
  },
  {
   "cell_type": "markdown",
   "id": "36ffe7d1",
   "metadata": {},
   "source": [
    "---\n",
    "### Question 4\n",
    "\n",
    "- Import the `pandas` library as `pd`. "
   ]
  },
  {
   "cell_type": "code",
   "execution_count": 4,
   "id": "9",
   "metadata": {},
   "outputs": [],
   "source": [
    "import pandas as pd"
   ]
  },
  {
   "cell_type": "markdown",
   "id": "acc8b86e",
   "metadata": {},
   "source": [
    "The following options are useful:\n",
    "- With these options, you use \"modern\" Pandas. \n",
    "- It sets the plotting backend to `plotly`."
   ]
  },
  {
   "cell_type": "code",
   "execution_count": 5,
   "id": "d7465e1f",
   "metadata": {},
   "outputs": [],
   "source": [
    "pd.options.mode.copy_on_write = True \n",
    "pd.options.future.infer_string = True\n",
    "pd.options.plotting.backend = \"plotly\""
   ]
  },
  {
   "cell_type": "markdown",
   "id": "10",
   "metadata": {},
   "source": [
    "\n",
    "---\n",
    "### Question 5\n",
    "\n",
    "Read the file `Data_Elections.dta` into a `pd.DataFrame` object called `data`. Use the\n",
    "`data_file` object for doing so.\n",
    "\n",
    "You are likely to get an error when doing so. Find out\n",
    "how to fix it. *(Hint: The error message is even more explicit than usually in Python;\n",
    "you may want to have a carefully look at it despite its length. If working in VS Code,\n",
    "make sure that you can see the entire message by selecting from the view options at the\n",
    "bottom of the cell output)*"
   ]
  },
  {
   "cell_type": "code",
   "execution_count": 6,
   "id": "11",
   "metadata": {},
   "outputs": [],
   "source": [
    "df = pd.read_stata(file, convert_categoricals=False)"
   ]
  },
  {
   "cell_type": "markdown",
   "id": "12",
   "metadata": {},
   "source": [
    "---\n",
    "### Question 6\n",
    "\n",
    "Familiarise yourself with the dataset. E.g., you may want to look the column names, the\n",
    "shape, some rows, data types ..."
   ]
  },
  {
   "cell_type": "code",
   "execution_count": 7,
   "id": "13",
   "metadata": {},
   "outputs": [
    {
     "data": {
      "application/vnd.microsoft.datawrangler.viewer.v0+json": {
       "columns": [
        {
         "name": "index",
         "rawType": "int64",
         "type": "integer"
        },
        {
         "name": "Country",
         "rawType": "string",
         "type": "string"
        },
        {
         "name": "cid",
         "rawType": "float32",
         "type": "float"
        },
        {
         "name": "Nuts_id",
         "rawType": "string",
         "type": "string"
        },
        {
         "name": "Name",
         "rawType": "string",
         "type": "string"
        },
        {
         "name": "Year",
         "rawType": "float64",
         "type": "float"
        },
        {
         "name": "ElectionType",
         "rawType": "float32",
         "type": "float"
        },
        {
         "name": "EligibleVoters",
         "rawType": "float64",
         "type": "float"
        },
        {
         "name": "Valid",
         "rawType": "float64",
         "type": "float"
        },
        {
         "name": "HHI",
         "rawType": "float32",
         "type": "float"
        },
        {
         "name": "Far_Right",
         "rawType": "float64",
         "type": "float"
        },
        {
         "name": "Far_Left",
         "rawType": "float64",
         "type": "float"
        },
        {
         "name": "Far_Right_share",
         "rawType": "float32",
         "type": "float"
        },
        {
         "name": "Far_Left_share",
         "rawType": "float32",
         "type": "float"
        },
        {
         "name": "Far_share",
         "rawType": "float32",
         "type": "float"
        },
        {
         "name": "Turnout",
         "rawType": "float32",
         "type": "float"
        },
        {
         "name": "F0Far_Incumbent",
         "rawType": "float32",
         "type": "float"
        },
        {
         "name": "left",
         "rawType": "float32",
         "type": "float"
        },
        {
         "name": "id",
         "rawType": "float32",
         "type": "float"
        }
       ],
       "conversionMethod": "pd.DataFrame",
       "ref": "93017f48-445c-4e5e-8dc7-2c302910d348",
       "rows": [
        [
         "0",
         "Austria",
         "1.0",
         "AT11",
         "Burgenland (AT)",
         "1980.0",
         null,
         "192225.0",
         "180717.0",
         "0.47413176",
         "4941.0",
         "694.0",
         "0.027341092",
         "0.0038402586",
         "0.03118135",
         "0.94913775",
         "0.0",
         "1.0",
         "1.0"
        ],
        [
         "1",
         "Austria",
         "1.0",
         "AT11",
         "Burgenland (AT)",
         "1981.0",
         null,
         "192225.0",
         "180717.0",
         "0.47413176",
         "4941.0",
         "694.0",
         "0.027341092",
         "0.0038402586",
         "0.03118135",
         "0.94913775",
         "0.0",
         "1.0",
         "1.0"
        ],
        [
         "2",
         "Austria",
         "1.0",
         "AT11",
         "Burgenland (AT)",
         "1982.0",
         "3.0",
         "198000.0",
         "173691.0",
         "0.469377",
         "5559.0",
         "942.0",
         "0.032005113",
         "0.0054234243",
         "0.037428536",
         "0.9006717",
         "0.0",
         "1.0",
         "1.0"
        ],
        [
         "3",
         "Austria",
         "1.0",
         "AT11",
         "Burgenland (AT)",
         "1983.0",
         "1.0",
         "197459.0",
         "184704.0",
         "0.46047065",
         "4090.0",
         "543.0",
         "0.022143537",
         "0.002939839",
         "0.025083376",
         "0.9477157",
         "4090.0",
         "1.0",
         "1.0"
        ],
        [
         "4",
         "Austria",
         "1.0",
         "AT11",
         "Burgenland (AT)",
         "1984.0",
         null,
         "197459.0",
         "184704.0",
         "0.46047065",
         "4090.0",
         "543.0",
         "0.022143537",
         "0.002939839",
         "0.025083376",
         "0.9477157",
         "4090.0",
         "1.0",
         "1.0"
        ],
        [
         "5",
         "Austria",
         "1.0",
         "AT11",
         "Burgenland (AT)",
         "1985.0",
         null,
         "197459.0",
         "184704.0",
         "0.46047065",
         "4090.0",
         "543.0",
         "0.022143537",
         "0.002939839",
         "0.025083376",
         "0.9477157",
         "4090.0",
         "1.0",
         "1.0"
        ],
        [
         "6",
         "Austria",
         "1.0",
         "AT11",
         "Burgenland (AT)",
         "1986.0",
         "1.0",
         "200572.0",
         "185497.0",
         "0.4267596",
         "9985.0",
         "626.0",
         "0.053828362",
         "0.0033747177",
         "0.05720308",
         "0.93766326",
         "0.0",
         "1.0",
         "1.0"
        ],
        [
         "7",
         "Austria",
         "1.0",
         "AT11",
         "Burgenland (AT)",
         "1987.0",
         "3.0",
         "203012.0",
         "175766.0",
         "0.40218103",
         "12855.0",
         "991.0",
         "0.073137015",
         "0.005638178",
         "0.07877519",
         "0.8900262",
         "0.0",
         "1.0",
         "1.0"
        ],
        [
         "8",
         "Austria",
         "1.0",
         "AT11",
         "Burgenland (AT)",
         "1988.0",
         null,
         "203012.0",
         "175766.0",
         "0.40218103",
         "12855.0",
         "991.0",
         "0.073137015",
         "0.005638178",
         "0.07877519",
         "0.8900262",
         "0.0",
         "1.0",
         "1.0"
        ],
        [
         "9",
         "Austria",
         "1.0",
         "AT11",
         "Burgenland (AT)",
         "1989.0",
         null,
         "203012.0",
         "175766.0",
         "0.40218103",
         "12855.0",
         "991.0",
         "0.073137015",
         "0.005638178",
         "0.07877519",
         "0.8900262",
         "0.0",
         "1.0",
         "1.0"
        ]
       ],
       "shape": {
        "columns": 18,
        "rows": 10
       }
      },
      "text/html": [
       "<div>\n",
       "<style scoped>\n",
       "    .dataframe tbody tr th:only-of-type {\n",
       "        vertical-align: middle;\n",
       "    }\n",
       "\n",
       "    .dataframe tbody tr th {\n",
       "        vertical-align: top;\n",
       "    }\n",
       "\n",
       "    .dataframe thead th {\n",
       "        text-align: right;\n",
       "    }\n",
       "</style>\n",
       "<table border=\"1\" class=\"dataframe\">\n",
       "  <thead>\n",
       "    <tr style=\"text-align: right;\">\n",
       "      <th></th>\n",
       "      <th>Country</th>\n",
       "      <th>cid</th>\n",
       "      <th>Nuts_id</th>\n",
       "      <th>Name</th>\n",
       "      <th>Year</th>\n",
       "      <th>ElectionType</th>\n",
       "      <th>EligibleVoters</th>\n",
       "      <th>Valid</th>\n",
       "      <th>HHI</th>\n",
       "      <th>Far_Right</th>\n",
       "      <th>Far_Left</th>\n",
       "      <th>Far_Right_share</th>\n",
       "      <th>Far_Left_share</th>\n",
       "      <th>Far_share</th>\n",
       "      <th>Turnout</th>\n",
       "      <th>F0Far_Incumbent</th>\n",
       "      <th>left</th>\n",
       "      <th>id</th>\n",
       "    </tr>\n",
       "  </thead>\n",
       "  <tbody>\n",
       "    <tr>\n",
       "      <th>0</th>\n",
       "      <td>Austria</td>\n",
       "      <td>1.0</td>\n",
       "      <td>AT11</td>\n",
       "      <td>Burgenland (AT)</td>\n",
       "      <td>1980.0</td>\n",
       "      <td>NaN</td>\n",
       "      <td>192225.0</td>\n",
       "      <td>180717.0</td>\n",
       "      <td>0.474132</td>\n",
       "      <td>4941.0</td>\n",
       "      <td>694.0</td>\n",
       "      <td>0.027341</td>\n",
       "      <td>0.003840</td>\n",
       "      <td>0.031181</td>\n",
       "      <td>0.949138</td>\n",
       "      <td>0.0</td>\n",
       "      <td>1.0</td>\n",
       "      <td>1.0</td>\n",
       "    </tr>\n",
       "    <tr>\n",
       "      <th>1</th>\n",
       "      <td>Austria</td>\n",
       "      <td>1.0</td>\n",
       "      <td>AT11</td>\n",
       "      <td>Burgenland (AT)</td>\n",
       "      <td>1981.0</td>\n",
       "      <td>NaN</td>\n",
       "      <td>192225.0</td>\n",
       "      <td>180717.0</td>\n",
       "      <td>0.474132</td>\n",
       "      <td>4941.0</td>\n",
       "      <td>694.0</td>\n",
       "      <td>0.027341</td>\n",
       "      <td>0.003840</td>\n",
       "      <td>0.031181</td>\n",
       "      <td>0.949138</td>\n",
       "      <td>0.0</td>\n",
       "      <td>1.0</td>\n",
       "      <td>1.0</td>\n",
       "    </tr>\n",
       "    <tr>\n",
       "      <th>2</th>\n",
       "      <td>Austria</td>\n",
       "      <td>1.0</td>\n",
       "      <td>AT11</td>\n",
       "      <td>Burgenland (AT)</td>\n",
       "      <td>1982.0</td>\n",
       "      <td>3.0</td>\n",
       "      <td>198000.0</td>\n",
       "      <td>173691.0</td>\n",
       "      <td>0.469377</td>\n",
       "      <td>5559.0</td>\n",
       "      <td>942.0</td>\n",
       "      <td>0.032005</td>\n",
       "      <td>0.005423</td>\n",
       "      <td>0.037429</td>\n",
       "      <td>0.900672</td>\n",
       "      <td>0.0</td>\n",
       "      <td>1.0</td>\n",
       "      <td>1.0</td>\n",
       "    </tr>\n",
       "    <tr>\n",
       "      <th>3</th>\n",
       "      <td>Austria</td>\n",
       "      <td>1.0</td>\n",
       "      <td>AT11</td>\n",
       "      <td>Burgenland (AT)</td>\n",
       "      <td>1983.0</td>\n",
       "      <td>1.0</td>\n",
       "      <td>197459.0</td>\n",
       "      <td>184704.0</td>\n",
       "      <td>0.460471</td>\n",
       "      <td>4090.0</td>\n",
       "      <td>543.0</td>\n",
       "      <td>0.022144</td>\n",
       "      <td>0.002940</td>\n",
       "      <td>0.025083</td>\n",
       "      <td>0.947716</td>\n",
       "      <td>4090.0</td>\n",
       "      <td>1.0</td>\n",
       "      <td>1.0</td>\n",
       "    </tr>\n",
       "    <tr>\n",
       "      <th>4</th>\n",
       "      <td>Austria</td>\n",
       "      <td>1.0</td>\n",
       "      <td>AT11</td>\n",
       "      <td>Burgenland (AT)</td>\n",
       "      <td>1984.0</td>\n",
       "      <td>NaN</td>\n",
       "      <td>197459.0</td>\n",
       "      <td>184704.0</td>\n",
       "      <td>0.460471</td>\n",
       "      <td>4090.0</td>\n",
       "      <td>543.0</td>\n",
       "      <td>0.022144</td>\n",
       "      <td>0.002940</td>\n",
       "      <td>0.025083</td>\n",
       "      <td>0.947716</td>\n",
       "      <td>4090.0</td>\n",
       "      <td>1.0</td>\n",
       "      <td>1.0</td>\n",
       "    </tr>\n",
       "    <tr>\n",
       "      <th>5</th>\n",
       "      <td>Austria</td>\n",
       "      <td>1.0</td>\n",
       "      <td>AT11</td>\n",
       "      <td>Burgenland (AT)</td>\n",
       "      <td>1985.0</td>\n",
       "      <td>NaN</td>\n",
       "      <td>197459.0</td>\n",
       "      <td>184704.0</td>\n",
       "      <td>0.460471</td>\n",
       "      <td>4090.0</td>\n",
       "      <td>543.0</td>\n",
       "      <td>0.022144</td>\n",
       "      <td>0.002940</td>\n",
       "      <td>0.025083</td>\n",
       "      <td>0.947716</td>\n",
       "      <td>4090.0</td>\n",
       "      <td>1.0</td>\n",
       "      <td>1.0</td>\n",
       "    </tr>\n",
       "    <tr>\n",
       "      <th>6</th>\n",
       "      <td>Austria</td>\n",
       "      <td>1.0</td>\n",
       "      <td>AT11</td>\n",
       "      <td>Burgenland (AT)</td>\n",
       "      <td>1986.0</td>\n",
       "      <td>1.0</td>\n",
       "      <td>200572.0</td>\n",
       "      <td>185497.0</td>\n",
       "      <td>0.426760</td>\n",
       "      <td>9985.0</td>\n",
       "      <td>626.0</td>\n",
       "      <td>0.053828</td>\n",
       "      <td>0.003375</td>\n",
       "      <td>0.057203</td>\n",
       "      <td>0.937663</td>\n",
       "      <td>0.0</td>\n",
       "      <td>1.0</td>\n",
       "      <td>1.0</td>\n",
       "    </tr>\n",
       "    <tr>\n",
       "      <th>7</th>\n",
       "      <td>Austria</td>\n",
       "      <td>1.0</td>\n",
       "      <td>AT11</td>\n",
       "      <td>Burgenland (AT)</td>\n",
       "      <td>1987.0</td>\n",
       "      <td>3.0</td>\n",
       "      <td>203012.0</td>\n",
       "      <td>175766.0</td>\n",
       "      <td>0.402181</td>\n",
       "      <td>12855.0</td>\n",
       "      <td>991.0</td>\n",
       "      <td>0.073137</td>\n",
       "      <td>0.005638</td>\n",
       "      <td>0.078775</td>\n",
       "      <td>0.890026</td>\n",
       "      <td>0.0</td>\n",
       "      <td>1.0</td>\n",
       "      <td>1.0</td>\n",
       "    </tr>\n",
       "    <tr>\n",
       "      <th>8</th>\n",
       "      <td>Austria</td>\n",
       "      <td>1.0</td>\n",
       "      <td>AT11</td>\n",
       "      <td>Burgenland (AT)</td>\n",
       "      <td>1988.0</td>\n",
       "      <td>NaN</td>\n",
       "      <td>203012.0</td>\n",
       "      <td>175766.0</td>\n",
       "      <td>0.402181</td>\n",
       "      <td>12855.0</td>\n",
       "      <td>991.0</td>\n",
       "      <td>0.073137</td>\n",
       "      <td>0.005638</td>\n",
       "      <td>0.078775</td>\n",
       "      <td>0.890026</td>\n",
       "      <td>0.0</td>\n",
       "      <td>1.0</td>\n",
       "      <td>1.0</td>\n",
       "    </tr>\n",
       "    <tr>\n",
       "      <th>9</th>\n",
       "      <td>Austria</td>\n",
       "      <td>1.0</td>\n",
       "      <td>AT11</td>\n",
       "      <td>Burgenland (AT)</td>\n",
       "      <td>1989.0</td>\n",
       "      <td>NaN</td>\n",
       "      <td>203012.0</td>\n",
       "      <td>175766.0</td>\n",
       "      <td>0.402181</td>\n",
       "      <td>12855.0</td>\n",
       "      <td>991.0</td>\n",
       "      <td>0.073137</td>\n",
       "      <td>0.005638</td>\n",
       "      <td>0.078775</td>\n",
       "      <td>0.890026</td>\n",
       "      <td>0.0</td>\n",
       "      <td>1.0</td>\n",
       "      <td>1.0</td>\n",
       "    </tr>\n",
       "  </tbody>\n",
       "</table>\n",
       "</div>"
      ],
      "text/plain": [
       "   Country  cid Nuts_id             Name    Year  ElectionType  \\\n",
       "0  Austria  1.0    AT11  Burgenland (AT)  1980.0           NaN   \n",
       "1  Austria  1.0    AT11  Burgenland (AT)  1981.0           NaN   \n",
       "2  Austria  1.0    AT11  Burgenland (AT)  1982.0           3.0   \n",
       "3  Austria  1.0    AT11  Burgenland (AT)  1983.0           1.0   \n",
       "4  Austria  1.0    AT11  Burgenland (AT)  1984.0           NaN   \n",
       "5  Austria  1.0    AT11  Burgenland (AT)  1985.0           NaN   \n",
       "6  Austria  1.0    AT11  Burgenland (AT)  1986.0           1.0   \n",
       "7  Austria  1.0    AT11  Burgenland (AT)  1987.0           3.0   \n",
       "8  Austria  1.0    AT11  Burgenland (AT)  1988.0           NaN   \n",
       "9  Austria  1.0    AT11  Burgenland (AT)  1989.0           NaN   \n",
       "\n",
       "   EligibleVoters     Valid       HHI  Far_Right  Far_Left  Far_Right_share  \\\n",
       "0        192225.0  180717.0  0.474132     4941.0     694.0         0.027341   \n",
       "1        192225.0  180717.0  0.474132     4941.0     694.0         0.027341   \n",
       "2        198000.0  173691.0  0.469377     5559.0     942.0         0.032005   \n",
       "3        197459.0  184704.0  0.460471     4090.0     543.0         0.022144   \n",
       "4        197459.0  184704.0  0.460471     4090.0     543.0         0.022144   \n",
       "5        197459.0  184704.0  0.460471     4090.0     543.0         0.022144   \n",
       "6        200572.0  185497.0  0.426760     9985.0     626.0         0.053828   \n",
       "7        203012.0  175766.0  0.402181    12855.0     991.0         0.073137   \n",
       "8        203012.0  175766.0  0.402181    12855.0     991.0         0.073137   \n",
       "9        203012.0  175766.0  0.402181    12855.0     991.0         0.073137   \n",
       "\n",
       "   Far_Left_share  Far_share   Turnout  F0Far_Incumbent  left   id  \n",
       "0        0.003840   0.031181  0.949138              0.0   1.0  1.0  \n",
       "1        0.003840   0.031181  0.949138              0.0   1.0  1.0  \n",
       "2        0.005423   0.037429  0.900672              0.0   1.0  1.0  \n",
       "3        0.002940   0.025083  0.947716           4090.0   1.0  1.0  \n",
       "4        0.002940   0.025083  0.947716           4090.0   1.0  1.0  \n",
       "5        0.002940   0.025083  0.947716           4090.0   1.0  1.0  \n",
       "6        0.003375   0.057203  0.937663              0.0   1.0  1.0  \n",
       "7        0.005638   0.078775  0.890026              0.0   1.0  1.0  \n",
       "8        0.005638   0.078775  0.890026              0.0   1.0  1.0  \n",
       "9        0.005638   0.078775  0.890026              0.0   1.0  1.0  "
      ]
     },
     "execution_count": 7,
     "metadata": {},
     "output_type": "execute_result"
    }
   ],
   "source": [
    "df.head(10)"
   ]
  },
  {
   "cell_type": "code",
   "execution_count": 8,
   "id": "5ec1f17f",
   "metadata": {},
   "outputs": [
    {
     "name": "stdout",
     "output_type": "stream",
     "text": [
      "<class 'pandas.core.frame.DataFrame'>\n",
      "RangeIndex: 4536 entries, 0 to 4535\n",
      "Data columns (total 18 columns):\n",
      " #   Column           Non-Null Count  Dtype  \n",
      "---  ------           --------------  -----  \n",
      " 0   Country          4536 non-null   string \n",
      " 1   cid              4536 non-null   float32\n",
      " 2   Nuts_id          4536 non-null   string \n",
      " 3   Name             4536 non-null   string \n",
      " 4   Year             4536 non-null   float64\n",
      " 5   ElectionType     2362 non-null   float32\n",
      " 6   EligibleVoters   4456 non-null   float64\n",
      " 7   Valid            4456 non-null   float64\n",
      " 8   HHI              4456 non-null   float32\n",
      " 9   Far_Right        4456 non-null   float64\n",
      " 10  Far_Left         4456 non-null   float64\n",
      " 11  Far_Right_share  4456 non-null   float32\n",
      " 12  Far_Left_share   4456 non-null   float32\n",
      " 13  Far_share        4456 non-null   float32\n",
      " 14  Turnout          4445 non-null   float32\n",
      " 15  F0Far_Incumbent  4536 non-null   float32\n",
      " 16  left             4472 non-null   float32\n",
      " 17  id               4536 non-null   float32\n",
      "dtypes: float32(10), float64(5), string(3)\n",
      "memory usage: 559.9 KB\n"
     ]
    }
   ],
   "source": [
    "df.info()"
   ]
  },
  {
   "cell_type": "code",
   "execution_count": 9,
   "id": "8f6b8680",
   "metadata": {},
   "outputs": [
    {
     "data": {
      "text/plain": [
       "'Name'"
      ]
     },
     "execution_count": 9,
     "metadata": {},
     "output_type": "execute_result"
    }
   ],
   "source": [
    "df.columns[3]"
   ]
  },
  {
   "cell_type": "markdown",
   "id": "17",
   "metadata": {},
   "source": [
    "---\n",
    "### Question 7\n",
    "\n",
    "We had to discard some information when reading the dataset. Luckily, we can access all\n",
    "of it using a low-level `pd.io.StataReader` object. This will allow us to look at all meta\n",
    "information that is stored with the dataset in Stata format.\n",
    "\n",
    "Create `data_info` that contains the `pd.io.stata.StataReader` object. Use the `data_file` object for\n",
    "doing so."
   ]
  },
  {
   "cell_type": "code",
   "execution_count": 10,
   "id": "b70e8fd6",
   "metadata": {},
   "outputs": [],
   "source": [
    "data_info = pd.io.stata.StataReader(file) "
   ]
  },
  {
   "cell_type": "code",
   "execution_count": 11,
   "id": "18",
   "metadata": {},
   "outputs": [
    {
     "data": {
      "text/plain": [
       "{'Country': '',\n",
       " 'cid': 'group(Country)',\n",
       " 'Nuts_id': 'Nuts ID',\n",
       " 'Name': 'Nuts Name',\n",
       " 'Year': '',\n",
       " 'ElectionType': 'Type of Election(s) occurring in a specific year',\n",
       " 'EligibleVoters': 'Number of total voters',\n",
       " 'Valid': 'Number of total valid votes',\n",
       " 'HHI': 'Effective Number of Parties',\n",
       " 'Far_Right': 'Total number of votes in far right parties',\n",
       " 'Far_Left': 'Total number of votes in far left parties',\n",
       " 'Far_Right_share': '',\n",
       " 'Far_Left_share': '',\n",
       " 'Far_share': '',\n",
       " 'Turnout': 'Share of Total Votes over Eligible Voters',\n",
       " 'F0Far_Incumbent': 'Number of votes of far parties part of the government',\n",
       " 'left': \"1 if the incumbent government's prime-minister belongs to a left-leaning party\",\n",
       " 'id': 'group(Nuts_id)'}"
      ]
     },
     "execution_count": 11,
     "metadata": {},
     "output_type": "execute_result"
    }
   ],
   "source": [
    "data_info.variable_labels()"
   ]
  },
  {
   "cell_type": "code",
   "execution_count": 12,
   "id": "00edb2e1",
   "metadata": {},
   "outputs": [
    {
     "data": {
      "text/plain": [
       "{'ElectionType': {1: 'National',\n",
       "  2: 'European',\n",
       "  3: 'Regional',\n",
       "  4: 'National + European',\n",
       "  5: 'National + Regional',\n",
       "  6: 'European + Regional + European',\n",
       "  7: 'National + Regional',\n",
       "  8: '2 National',\n",
       "  9: '2 Regional',\n",
       "  10: 'European + 2 Regional'}}"
      ]
     },
     "execution_count": 12,
     "metadata": {},
     "output_type": "execute_result"
    }
   ],
   "source": [
    "data_info.value_labels()"
   ]
  },
  {
   "cell_type": "code",
   "execution_count": 13,
   "id": "118495a6",
   "metadata": {},
   "outputs": [
    {
     "data": {
      "text/plain": [
       "''"
      ]
     },
     "execution_count": 13,
     "metadata": {},
     "output_type": "execute_result"
    }
   ],
   "source": [
    "data_info.data_label"
   ]
  },
  {
   "cell_type": "markdown",
   "id": "19",
   "metadata": {},
   "source": [
    "Look at the various `labels` attributes of the `pd.StataReader` object. Explain what\n",
    "they do. Can you explain now why the error occurred when reading the dataset?"
   ]
  },
  {
   "cell_type": "code",
   "execution_count": null,
   "id": "20",
   "metadata": {},
   "outputs": [],
   "source": []
  },
  {
   "cell_type": "markdown",
   "id": "24",
   "metadata": {},
   "source": [
    "---\n",
    "### Question 8\n",
    "\n",
    "Look at the structure of `data` again. Would you keep all of\n",
    "\n",
    "- `Country` and `cid`?\n",
    "- `Nuts_id`,  `Name`, and `id`?\n",
    "\n",
    "Why or why not?\n"
   ]
  },
  {
   "cell_type": "code",
   "execution_count": null,
   "id": "a37375fd",
   "metadata": {},
   "outputs": [],
   "source": []
  },
  {
   "cell_type": "markdown",
   "id": "26",
   "metadata": {},
   "source": [
    "---\n",
    "### Bonus: Question 9 (only if you have some time left)\n",
    "\n",
    "This question is optional and means to justify why we can drop `cid` and `id`.\n",
    "\n",
    "Make sure that we can safely drop `cid` and `id` from the dataset by finding out the unique combinations of the sets of variables from the previous question.\n",
    "\n",
    "> Note: The `.unique()` method only works on Series, you'll need to use `.drop_duplicates()`."
   ]
  },
  {
   "cell_type": "code",
   "execution_count": null,
   "id": "27",
   "metadata": {},
   "outputs": [],
   "source": []
  },
  {
   "cell_type": "markdown",
   "id": "31",
   "metadata": {},
   "source": [
    "---\n",
    "### Question 10\n",
    "\n",
    "Drop `cid` and `id` from the dataset, which you should continue to store in the variable\n",
    "`data`. Verify that the columns are gone.\n",
    "\n",
    "To do so, you can either use the `drop(columns=[...])` method or select those columns\n",
    "that you want to keep (there are even more options). Can you think of a reasons for each\n",
    "strategy, particularly in an interactive setting like a notebook?"
   ]
  },
  {
   "cell_type": "code",
   "execution_count": null,
   "id": "32",
   "metadata": {},
   "outputs": [
    {
     "data": {
      "text/plain": [
       "Index(['Country', 'Nuts_id', 'Name', 'Year', 'ElectionType', 'EligibleVoters',\n",
       "       'Valid', 'HHI', 'Far_Right', 'Far_Left', 'Far_Right_share',\n",
       "       'Far_Left_share', 'Far_share', 'Turnout', 'F0Far_Incumbent', 'left'],\n",
       "      dtype='string')"
      ]
     },
     "execution_count": 16,
     "metadata": {},
     "output_type": "execute_result"
    }
   ],
   "source": [
    "df = df.drop(columns=[\"cid\", \"id\"])\n",
    "df.columns"
   ]
  },
  {
   "cell_type": "markdown",
   "id": "34",
   "metadata": {},
   "source": [
    "---\n",
    "### Question 11\n",
    "\n",
    "Give the columns (more) sensible names using the `lowercase_with_underscores`\n",
    "convention. You should continue to store the dataset in the variable `data`. \n",
    "\n",
    "> Note: While trying out, you don't want to assign to `data` yet because once you change\n",
    "> the column names, you cannot access the old ones anymore. That will eventually be \n",
    "> fine, but not in the interactive setting yet.\n",
    "\n",
    "> Tip: You can just copy the output of the `variable_labels()` call above to get\n",
    "> started."
   ]
  },
  {
   "cell_type": "code",
   "execution_count": 17,
   "id": "35",
   "metadata": {},
   "outputs": [],
   "source": [
    "renamed_columns = {\n",
    "        \"Country\": \"country\",\n",
    "        \"Nuts_id\": \"nuts_id\",\n",
    "        \"Name\": \"nuts_name\",\n",
    "        \"Year\": \"year\",\n",
    "        \"ElectionType\": \"election_type\",\n",
    "        \"EligibleVoters\": \"number_eligible_voters\",\n",
    "        \"Valid\": \"number_valid_votes\",\n",
    "        \"HHI\": \"number_parties_effective\",\n",
    "        \"Far_Right\": \"number_votes_far_right\",\n",
    "        \"Far_Left\": \"number_votes_far_left\",\n",
    "        \"Far_Right_share\": \"share_votes_far_right\",\n",
    "        \"Far_Left_share\": \"share_votes_far_left\",\n",
    "        \"Far_share\": \"share_votes_far_any\",\n",
    "        \"Turnout\": \"share_voter_turnout\",\n",
    "        \"F0Far_Incumbent\": \"number_votes_far_any_incumbent\",\n",
    "        \"left\": \"pm_party_left\",\n",
    "    }"
   ]
  },
  {
   "cell_type": "code",
   "execution_count": 18,
   "id": "b37ee02b",
   "metadata": {},
   "outputs": [
    {
     "data": {
      "text/plain": [
       "Index(['country', 'nuts_id', 'nuts_name', 'year', 'election_type',\n",
       "       'number_eligible_voters', 'number_valid_votes',\n",
       "       'number_parties_effective', 'number_votes_far_right',\n",
       "       'number_votes_far_left', 'share_votes_far_right',\n",
       "       'share_votes_far_left', 'share_votes_far_any', 'share_voter_turnout',\n",
       "       'number_votes_far_any_incumbent', 'pm_party_left'],\n",
       "      dtype='string')"
      ]
     },
     "execution_count": 18,
     "metadata": {},
     "output_type": "execute_result"
    }
   ],
   "source": [
    "df = df.rename(columns=renamed_columns)\n",
    "df.columns"
   ]
  },
  {
   "cell_type": "markdown",
   "id": "36",
   "metadata": {},
   "source": [
    "---\n",
    "### Question 12\n",
    "\n",
    "Convert all variables to sensible data types. In some cases, you may want to keep the column names, in some cases you may want to generate new ones. Briefly explain all of  your choices."
   ]
  },
  {
   "cell_type": "code",
   "execution_count": 19,
   "id": "4984c2e0",
   "metadata": {},
   "outputs": [
    {
     "name": "stdout",
     "output_type": "stream",
     "text": [
      "<class 'pandas.core.frame.DataFrame'>\n",
      "RangeIndex: 4536 entries, 0 to 4535\n",
      "Data columns (total 16 columns):\n",
      " #   Column                          Non-Null Count  Dtype  \n",
      "---  ------                          --------------  -----  \n",
      " 0   country                         4536 non-null   string \n",
      " 1   nuts_id                         4536 non-null   string \n",
      " 2   nuts_name                       4536 non-null   string \n",
      " 3   year                            4536 non-null   float64\n",
      " 4   election_type                   2362 non-null   float32\n",
      " 5   number_eligible_voters          4456 non-null   float64\n",
      " 6   number_valid_votes              4456 non-null   float64\n",
      " 7   number_parties_effective        4456 non-null   float32\n",
      " 8   number_votes_far_right          4456 non-null   float64\n",
      " 9   number_votes_far_left           4456 non-null   float64\n",
      " 10  share_votes_far_right           4456 non-null   float32\n",
      " 11  share_votes_far_left            4456 non-null   float32\n",
      " 12  share_votes_far_any             4456 non-null   float32\n",
      " 13  share_voter_turnout             4445 non-null   float32\n",
      " 14  number_votes_far_any_incumbent  4536 non-null   float32\n",
      " 15  pm_party_left                   4472 non-null   float32\n",
      "dtypes: float32(8), float64(5), string(3)\n",
      "memory usage: 524.4 KB\n"
     ]
    }
   ],
   "source": [
    "df.info()"
   ]
  },
  {
   "cell_type": "markdown",
   "id": "1973008a",
   "metadata": {},
   "source": [
    "#### `\"country\", \"nuts_id\", \"nuts_name\"` to `pd.CategoricalDtype()`\n",
    "\n",
    "This can be done in one step because the variables already have sensible labels."
   ]
  },
  {
   "cell_type": "code",
   "execution_count": 20,
   "id": "37",
   "metadata": {},
   "outputs": [
    {
     "data": {
      "application/vnd.microsoft.datawrangler.viewer.v0+json": {
       "columns": [
        {
         "name": "index",
         "rawType": "int64",
         "type": "integer"
        },
        {
         "name": "country",
         "rawType": "category",
         "type": "unknown"
        },
        {
         "name": "nuts_id",
         "rawType": "category",
         "type": "unknown"
        },
        {
         "name": "nuts_name",
         "rawType": "category",
         "type": "unknown"
        }
       ],
       "conversionMethod": "pd.DataFrame",
       "ref": "b4436a6f-2ef0-430f-bdd1-9296e3fe462b",
       "rows": [
        [
         "0",
         "Austria",
         "AT11",
         "Burgenland (AT)"
        ],
        [
         "1",
         "Austria",
         "AT11",
         "Burgenland (AT)"
        ],
        [
         "2",
         "Austria",
         "AT11",
         "Burgenland (AT)"
        ],
        [
         "3",
         "Austria",
         "AT11",
         "Burgenland (AT)"
        ],
        [
         "4",
         "Austria",
         "AT11",
         "Burgenland (AT)"
        ]
       ],
       "shape": {
        "columns": 3,
        "rows": 5
       }
      },
      "text/html": [
       "<div>\n",
       "<style scoped>\n",
       "    .dataframe tbody tr th:only-of-type {\n",
       "        vertical-align: middle;\n",
       "    }\n",
       "\n",
       "    .dataframe tbody tr th {\n",
       "        vertical-align: top;\n",
       "    }\n",
       "\n",
       "    .dataframe thead th {\n",
       "        text-align: right;\n",
       "    }\n",
       "</style>\n",
       "<table border=\"1\" class=\"dataframe\">\n",
       "  <thead>\n",
       "    <tr style=\"text-align: right;\">\n",
       "      <th></th>\n",
       "      <th>country</th>\n",
       "      <th>nuts_id</th>\n",
       "      <th>nuts_name</th>\n",
       "    </tr>\n",
       "  </thead>\n",
       "  <tbody>\n",
       "    <tr>\n",
       "      <th>0</th>\n",
       "      <td>Austria</td>\n",
       "      <td>AT11</td>\n",
       "      <td>Burgenland (AT)</td>\n",
       "    </tr>\n",
       "    <tr>\n",
       "      <th>1</th>\n",
       "      <td>Austria</td>\n",
       "      <td>AT11</td>\n",
       "      <td>Burgenland (AT)</td>\n",
       "    </tr>\n",
       "    <tr>\n",
       "      <th>2</th>\n",
       "      <td>Austria</td>\n",
       "      <td>AT11</td>\n",
       "      <td>Burgenland (AT)</td>\n",
       "    </tr>\n",
       "    <tr>\n",
       "      <th>3</th>\n",
       "      <td>Austria</td>\n",
       "      <td>AT11</td>\n",
       "      <td>Burgenland (AT)</td>\n",
       "    </tr>\n",
       "    <tr>\n",
       "      <th>4</th>\n",
       "      <td>Austria</td>\n",
       "      <td>AT11</td>\n",
       "      <td>Burgenland (AT)</td>\n",
       "    </tr>\n",
       "  </tbody>\n",
       "</table>\n",
       "</div>"
      ],
      "text/plain": [
       "   country nuts_id        nuts_name\n",
       "0  Austria    AT11  Burgenland (AT)\n",
       "1  Austria    AT11  Burgenland (AT)\n",
       "2  Austria    AT11  Burgenland (AT)\n",
       "3  Austria    AT11  Burgenland (AT)\n",
       "4  Austria    AT11  Burgenland (AT)"
      ]
     },
     "execution_count": 20,
     "metadata": {},
     "output_type": "execute_result"
    }
   ],
   "source": [
    "for column in [\"country\", \"nuts_id\", \"nuts_name\"]:\n",
    "    df[column] = df[column].astype(pd.CategoricalDtype())\n",
    "df[[\"country\", \"nuts_id\", \"nuts_name\"]].head()"
   ]
  },
  {
   "cell_type": "markdown",
   "id": "5bd8602f",
   "metadata": {},
   "source": [
    "### `year` to a `pd.Int16Dtype()`"
   ]
  },
  {
   "cell_type": "code",
   "execution_count": null,
   "id": "39",
   "metadata": {},
   "outputs": [],
   "source": []
  },
  {
   "cell_type": "markdown",
   "id": "9252263b",
   "metadata": {},
   "source": [
    "### `election_type` to a `pd.CategoricalDtype()`\n",
    "\n",
    "The labels are not meaningful, but we can use the `value_labels` attribute of the\n",
    "   `pd.StataReader` object to get the labels.\n",
    "\n",
    "1. Create `election_cats`, a dictionary with the labels from the `value_labels`) \n",
    "2. Replace the duplicated label with `National + Regional A` and `National + Regional B`\n",
    "3. First, convert `election_type` to a `pd.Int8Dtype()` and then to a `pd.CategoricalDtype()`\n",
    "4. Last, you can use the `election_cats` dictionary to convert the labels to a\n",
    "   `pd.CategoricalDtype()`."
   ]
  },
  {
   "cell_type": "code",
   "execution_count": null,
   "id": "41",
   "metadata": {},
   "outputs": [],
   "source": []
  },
  {
   "cell_type": "markdown",
   "id": "e9a8815d",
   "metadata": {},
   "source": [
    "### Round and convert all columns starting with `number` to `pd.Int32Dtype()` (except for `number_parties_effective`)"
   ]
  },
  {
   "cell_type": "code",
   "execution_count": null,
   "id": "43",
   "metadata": {},
   "outputs": [],
   "source": []
  },
  {
   "cell_type": "markdown",
   "id": "6e20eecb",
   "metadata": {},
   "source": [
    "### `pm_party_left` to `pd.CategoricalDtype()`\n",
    "- Convert it first to a `pd.Int8Dtype()` and then to a `pd.CategoricalDtype()`\n",
    "- You can then rename the categories to meaningful labels"
   ]
  },
  {
   "cell_type": "code",
   "execution_count": null,
   "id": "45",
   "metadata": {},
   "outputs": [],
   "source": []
  },
  {
   "cell_type": "markdown",
   "id": "47",
   "metadata": {},
   "source": [
    "---\n",
    "### Question 13\n",
    "\n",
    "Summarise the cleaned data in a similar way as above. Now also look at summary\n",
    "statistics, including value counts of categorical variables. Do you notice anything\n",
    "when doing the latter? If so, will you have to be careful for interpreting descriptive\n",
    "statistics?"
   ]
  },
  {
   "cell_type": "code",
   "execution_count": null,
   "id": "48",
   "metadata": {},
   "outputs": [],
   "source": []
  },
  {
   "cell_type": "markdown",
   "id": "59",
   "metadata": {},
   "source": [
    "---\n",
    "### Question 14\n",
    "\n",
    "Make three plots of mean vote shares by year, across all NUTS regions and elections.\n",
    "- far right share\n",
    "- far left share\n",
    "- far share (any)\n",
    "\n",
    "Don't worry about whether these plots make a lot of sense (i.e., any weighting with\n",
    "electorate size or the like)."
   ]
  },
  {
   "cell_type": "code",
   "execution_count": null,
   "id": "60",
   "metadata": {},
   "outputs": [],
   "source": []
  },
  {
   "cell_type": "code",
   "execution_count": null,
   "id": "61",
   "metadata": {},
   "outputs": [],
   "source": []
  },
  {
   "cell_type": "markdown",
   "id": "64",
   "metadata": {},
   "source": [
    "---\n",
    "### Question 15\n",
    "\n",
    "Make three scatterplots of vote shares by year, across all NUTS regions and elections.\n",
    "\n",
    "- far right share\n",
    "- far left share\n",
    "- far share (any)\n",
    "\n",
    "Colour the dots using the country."
   ]
  },
  {
   "cell_type": "code",
   "execution_count": null,
   "id": "65",
   "metadata": {},
   "outputs": [],
   "source": []
  },
  {
   "cell_type": "code",
   "execution_count": null,
   "id": "67",
   "metadata": {},
   "outputs": [],
   "source": []
  },
  {
   "cell_type": "code",
   "execution_count": null,
   "id": "70652460",
   "metadata": {},
   "outputs": [],
   "source": []
  }
 ],
 "metadata": {
  "kernelspec": {
   "display_name": "hsg-spring2025",
   "language": "python",
   "name": "python3"
  },
  "language_info": {
   "codemirror_mode": {
    "name": "ipython",
    "version": 3
   },
   "file_extension": ".py",
   "mimetype": "text/x-python",
   "name": "python",
   "nbconvert_exporter": "python",
   "pygments_lexer": "ipython3",
   "version": "3.12.6"
  }
 },
 "nbformat": 4,
 "nbformat_minor": 5
}
